{
  "nbformat": 4,
  "nbformat_minor": 0,
  "metadata": {
    "colab": {
      "name": "costco_demo.ipynb",
      "provenance": [],
      "gpuType": "T4"
    },
    "kernelspec": {
      "name": "python2",
      "display_name": "Python 2"
    },
    "accelerator": "GPU"
  },
  "cells": [
    {
      "cell_type": "markdown",
      "metadata": {
        "id": "PJRhgXMRZJMa"
      },
      "source": [
        "# Imports"
      ]
    },
    {
      "cell_type": "code",
      "metadata": {
        "id": "GMZej76fZPqZ"
      },
      "source": [
        "import os\n",
        "import json\n",
        "# import urllib2\n",
        "# import zipfile\n",
        "from pprint import pprint\n",
        "\n",
        "import numpy as np\n",
        "import tensorflow as tf\n",
        "import keras as k"
      ],
      "execution_count": 1,
      "outputs": []
    },
    {
      "cell_type": "code",
      "source": [
        "! conda install tensorflow==1.14.0\n"
      ],
      "metadata": {
        "id": "XRmgLJIeMd1Q",
        "outputId": "17700f7f-219b-4ee2-c114-843885a16455",
        "colab": {
          "base_uri": "https://localhost:8080/"
        }
      },
      "execution_count": 13,
      "outputs": [
        {
          "output_type": "stream",
          "name": "stdout",
          "text": [
            "/bin/bash: line 1: conda: command not found\n"
          ]
        }
      ]
    },
    {
      "cell_type": "markdown",
      "metadata": {
        "id": "jHGhMhifVRNo"
      },
      "source": [
        "# Load data"
      ]
    },
    {
      "cell_type": "code",
      "metadata": {
        "id": "kueTfyY3Yht2"
      },
      "source": [
        "data_folder = '/content/'\n",
        "\n"
      ],
      "execution_count": 2,
      "outputs": []
    },
    {
      "cell_type": "code",
      "metadata": {
        "id": "-Ilig1cCVRNp"
      },
      "source": [
        "shape = np.loadtxt(os.path.join(data_folder, 'tensor_shape.txt')).astype(int)\n",
        "tr_idxs = np.loadtxt(os.path.join(data_folder, 'train_indices.txt')).astype(int)\n",
        "tr_vals = np.loadtxt(os.path.join(data_folder, 'train_values.txt'))\n",
        "te_idxs = np.loadtxt(os.path.join(data_folder, 'test_indices.txt')).astype(int)\n",
        "te_vals = np.loadtxt(os.path.join(data_folder, 'test_values.txt'))"
      ],
      "execution_count": 3,
      "outputs": []
    },
    {
      "cell_type": "markdown",
      "metadata": {
        "id": "AB4BuZRbVRNY"
      },
      "source": [
        "# Define util functions"
      ]
    },
    {
      "cell_type": "code",
      "metadata": {
        "id": "4MmoK-zQVRNZ"
      },
      "source": [
        "def mape_keras(y_true, y_pred, threshold=0.1):\n",
        "    v = k.backend.clip(k.backend.abs(y_true), threshold, None)\n",
        "    diff = k.backend.abs((y_true - y_pred) / v)\n",
        "    return 100.0 * k.backend.mean(diff, axis=-1)\n",
        "\n",
        "def mae(y_true, y_pred):\n",
        "    return np.mean(np.abs(y_pred - y_true))\n",
        "\n",
        "def rmse(y_true, y_pred):\n",
        "    return np.sqrt(np.mean(np.square(y_pred - y_true)))\n",
        "\n",
        "def mape(y_true, y_pred, threshold=0.1):\n",
        "    v = np.clip(np.abs(y_true), threshold, None)\n",
        "    diff = np.abs((y_true - y_pred) / v)\n",
        "    return 100.0 * np.mean(diff, axis=-1).mean()\n",
        "\n",
        "def transform(idxs):\n",
        "    return [idxs[:, i] for i in range(idxs.shape[1])]\n",
        "\n",
        "# def set_session(device_count=None, seed=0):\n",
        "#     gpus = tf.config.list_physical_devices('GPU')\n",
        "#     for gpu in gpus:\n",
        "#       config = tf.config.experimental.set_memory_growth(gpu, True)\n",
        "#     print(gpu)\n",
        "#     session = tf.compat.v1.Session(config=config)\n",
        "#     tf.compat.v1.keras.backend.set_session(session)\n",
        "\n",
        "#     np.random.seed(seed)\n",
        "#     tf.random.set_seed(seed)\n",
        "#     return session\n",
        "def set_session(device_count= None, seed = 0):\n",
        "    gpu_options = tf.compat.v1.GPUOptions(allow_growth=True)\n",
        "\n",
        "    if device_count is not None:\n",
        "        # If device count is specified, set it in config\n",
        "        config = tf.compat.v1.ConfigProto(\n",
        "            gpu_options=gpu_options,\n",
        "            device_count=device_count\n",
        "        )\n",
        "    else:\n",
        "        config = tf.compat.v1.ConfigProto(gpu_options=gpu_options)\n",
        "\n",
        "    # Create and set TensorFlow session\n",
        "    session = tf.compat.v1.Session(config=config)\n",
        "    tf.compat.v1.keras.backend.set_session(session)\n",
        "\n",
        "    # Set random seeds\n",
        "    np.random.seed(seed)\n",
        "    tf.random.set_seed(seed)\n",
        "\n",
        "    return session\n",
        "\n",
        "def get_metrics(model, x, y, batch_size=1024):\n",
        "    yp = model.predict(x, batch_size=batch_size, verbose=1).flatten()\n",
        "    return {\n",
        "        \"rmse\": float(rmse(y, yp)),\n",
        "        \"mape\": float(mape(y, yp)),\n",
        "        \"mae\": float(mae(y, yp))\n",
        "    }"
      ],
      "execution_count": 29,
      "outputs": []
    },
    {
      "cell_type": "markdown",
      "metadata": {
        "id": "Xim4s-ziVRNg"
      },
      "source": [
        "# Create a CoSTCo model"
      ]
    },
    {
      "cell_type": "code",
      "metadata": {
        "id": "Ci6JG9m9VRNh"
      },
      "source": [
        "def create_costco(shape, rank, nc):\n",
        "    inputs = [k.Input(shape=(1,), dtype=\"int32\") for i in range(len(shape))]\n",
        "    embeds = [\n",
        "        k.layers.Embedding(output_dim=rank, input_dim=shape[i])(inputs[i])\n",
        "        for i in range(len(shape))\n",
        "    ]\n",
        "    x = k.layers.Concatenate(axis=1)(embeds)\n",
        "    x = k.layers.Reshape(target_shape=(rank, len(shape), 1))(x)\n",
        "    x = k.layers.Conv2D(\n",
        "        nc,\n",
        "        kernel_size=(1, len(shape)),\n",
        "        activation=\"relu\",\n",
        "        padding=\"valid\"\n",
        "    )(x)\n",
        "    x = k.layers.Conv2D(\n",
        "        nc,\n",
        "        kernel_size=(rank, 1),\n",
        "        activation=\"relu\",\n",
        "        padding=\"valid\"\n",
        "    )(x)\n",
        "    x = k.layers.Flatten()(x)\n",
        "    x = k.layers.Dense(nc, activation=\"relu\")(x)\n",
        "    outputs = k.layers.Dense(1, activation=\"relu\")(x)\n",
        "    model = k.Model(inputs=inputs, outputs=outputs)\n",
        "\n",
        "    return model"
      ],
      "execution_count": 14,
      "outputs": []
    },
    {
      "cell_type": "markdown",
      "metadata": {
        "id": "eQ_cVComVRNk"
      },
      "source": [
        "# Set hyper-parameters"
      ]
    },
    {
      "cell_type": "code",
      "metadata": {
        "id": "ZsdsNRmEVRNl"
      },
      "source": [
        "lr = 1e-4\n",
        "rank = 20\n",
        "nc = rank\n",
        "epochs = 50\n",
        "batch_size = 256\n",
        "\n",
        "seed = 3\n",
        "verbose = 1"
      ],
      "execution_count": 15,
      "outputs": []
    },
    {
      "cell_type": "markdown",
      "metadata": {
        "id": "6lQi9W2OVRNr"
      },
      "source": [
        "# Train with early stopping"
      ]
    },
    {
      "cell_type": "code",
      "source": [
        "set_session(device_count={\"GPU\": 0}, seed=seed)"
      ],
      "metadata": {
        "id": "tEvLEj_nTbhq",
        "outputId": "77322af5-3ec7-455f-f6cc-802cd6504970",
        "colab": {
          "base_uri": "https://localhost:8080/"
        }
      },
      "execution_count": 30,
      "outputs": [
        {
          "output_type": "execute_result",
          "data": {
            "text/plain": [
              "<tensorflow.python.client.session.Session at 0x796267fc1b10>"
            ]
          },
          "metadata": {},
          "execution_count": 30
        }
      ]
    },
    {
      "cell_type": "code",
      "metadata": {
        "id": "JzRKa3PvVRNs",
        "colab": {
          "base_uri": "https://localhost:8080/"
        },
        "outputId": "31b79be3-dfe2-4be7-c4f3-7be1e126a6e7"
      },
      "source": [
        "set_session(device_count={\"GPU\": 0}, seed=seed)\n",
        "optim = k.optimizers.Adam(lr=lr)\n",
        "\n",
        "model = create_costco(shape, rank, nc)\n",
        "model.compile(optim, loss=[\"mse\"], metrics=[\"mae\", mape_keras])\n",
        "hists = model.fit(\n",
        "    x=transform(tr_idxs),\n",
        "    y=tr_vals,\n",
        "    verbose=verbose,\n",
        "    epochs=epochs,\n",
        "    batch_size=batch_size,\n",
        "    validation_split=0.1,\n",
        "    callbacks=[k.callbacks.EarlyStopping(\n",
        "        monitor=\"val_mean_absolute_error\",\n",
        "        patience=10,\n",
        "        restore_best_weights=True)],\n",
        ");"
      ],
      "execution_count": 36,
      "outputs": [
        {
          "output_type": "stream",
          "name": "stderr",
          "text": [
            "WARNING:absl:`lr` is deprecated in Keras optimizer, please use `learning_rate` or use the legacy optimizer, e.g.,tf.keras.optimizers.legacy.Adam.\n"
          ]
        },
        {
          "output_type": "stream",
          "name": "stdout",
          "text": [
            "Epoch 1/50\n",
            "298/298 [==============================] - ETA: 0s - loss: 0.0242 - mae: 0.0882 - mape_keras: 52.9646"
          ]
        },
        {
          "output_type": "stream",
          "name": "stderr",
          "text": [
            "WARNING:tensorflow:Early stopping conditioned on metric `val_mean_absolute_error` which is not available. Available metrics are: loss,mae,mape_keras,val_loss,val_mae,val_mape_keras\n"
          ]
        },
        {
          "output_type": "stream",
          "name": "stdout",
          "text": [
            "\b\b\b\b\b\b\b\b\b\b\b\b\b\b\b\b\b\b\b\b\b\b\b\b\b\b\b\b\b\b\b\b\b\b\b\b\b\b\b\b\b\b\b\b\b\b\b\b\b\b\b\b\b\b\b\b\b\b\b\b\b\b\b\b\b\b\b\b\b\b\b\b\b\b\b\b\b\b\b\b\b\b\b\b\b\b\b\b\b\b\b\b\b\b\b\b\b\b\b\b\b\r298/298 [==============================] - 12s 36ms/step - loss: 0.0242 - mae: 0.0882 - mape_keras: 52.9646 - val_loss: 0.0230 - val_mae: 0.0866 - val_mape_keras: 53.1911\n",
            "Epoch 2/50\n",
            "298/298 [==============================] - ETA: 0s - loss: 0.0216 - mae: 0.0809 - mape_keras: 48.1676"
          ]
        },
        {
          "output_type": "stream",
          "name": "stderr",
          "text": [
            "WARNING:tensorflow:Early stopping conditioned on metric `val_mean_absolute_error` which is not available. Available metrics are: loss,mae,mape_keras,val_loss,val_mae,val_mape_keras\n"
          ]
        },
        {
          "output_type": "stream",
          "name": "stdout",
          "text": [
            "\b\b\b\b\b\b\b\b\b\b\b\b\b\b\b\b\b\b\b\b\b\b\b\b\b\b\b\b\b\b\b\b\b\b\b\b\b\b\b\b\b\b\b\b\b\b\b\b\b\b\b\b\b\b\b\b\b\b\b\b\b\b\b\b\b\b\b\b\b\b\b\b\b\b\b\b\b\b\b\b\b\b\b\b\b\b\b\b\b\b\b\b\b\b\b\b\b\b\b\b\b\r298/298 [==============================] - 3s 9ms/step - loss: 0.0216 - mae: 0.0809 - mape_keras: 48.1676 - val_loss: 0.0232 - val_mae: 0.0956 - val_mape_keras: 64.4720\n",
            "Epoch 3/50\n",
            "298/298 [==============================] - ETA: 0s - loss: 0.0203 - mae: 0.0777 - mape_keras: 46.1240"
          ]
        },
        {
          "output_type": "stream",
          "name": "stderr",
          "text": [
            "WARNING:tensorflow:Early stopping conditioned on metric `val_mean_absolute_error` which is not available. Available metrics are: loss,mae,mape_keras,val_loss,val_mae,val_mape_keras\n"
          ]
        },
        {
          "output_type": "stream",
          "name": "stdout",
          "text": [
            "\b\b\b\b\b\b\b\b\b\b\b\b\b\b\b\b\b\b\b\b\b\b\b\b\b\b\b\b\b\b\b\b\b\b\b\b\b\b\b\b\b\b\b\b\b\b\b\b\b\b\b\b\b\b\b\b\b\b\b\b\b\b\b\b\b\b\b\b\b\b\b\b\b\b\b\b\b\b\b\b\b\b\b\b\b\b\b\b\b\b\b\b\b\b\b\b\b\b\b\b\b\r298/298 [==============================] - 2s 8ms/step - loss: 0.0203 - mae: 0.0777 - mape_keras: 46.1240 - val_loss: 0.0234 - val_mae: 0.0871 - val_mape_keras: 54.1048\n",
            "Epoch 4/50\n",
            "298/298 [==============================] - ETA: 0s - loss: 0.0192 - mae: 0.0748 - mape_keras: 44.2788"
          ]
        },
        {
          "output_type": "stream",
          "name": "stderr",
          "text": [
            "WARNING:tensorflow:Early stopping conditioned on metric `val_mean_absolute_error` which is not available. Available metrics are: loss,mae,mape_keras,val_loss,val_mae,val_mape_keras\n"
          ]
        },
        {
          "output_type": "stream",
          "name": "stdout",
          "text": [
            "\b\b\b\b\b\b\b\b\b\b\b\b\b\b\b\b\b\b\b\b\b\b\b\b\b\b\b\b\b\b\b\b\b\b\b\b\b\b\b\b\b\b\b\b\b\b\b\b\b\b\b\b\b\b\b\b\b\b\b\b\b\b\b\b\b\b\b\b\b\b\b\b\b\b\b\b\b\b\b\b\b\b\b\b\b\b\b\b\b\b\b\b\b\b\b\b\b\b\b\b\b\r298/298 [==============================] - 3s 9ms/step - loss: 0.0192 - mae: 0.0748 - mape_keras: 44.2788 - val_loss: 0.0243 - val_mae: 0.0834 - val_mape_keras: 49.0381\n",
            "Epoch 5/50\n",
            "298/298 [==============================] - ETA: 0s - loss: 0.0182 - mae: 0.0725 - mape_keras: 42.9135"
          ]
        },
        {
          "output_type": "stream",
          "name": "stderr",
          "text": [
            "WARNING:tensorflow:Early stopping conditioned on metric `val_mean_absolute_error` which is not available. Available metrics are: loss,mae,mape_keras,val_loss,val_mae,val_mape_keras\n"
          ]
        },
        {
          "output_type": "stream",
          "name": "stdout",
          "text": [
            "\b\b\b\b\b\b\b\b\b\b\b\b\b\b\b\b\b\b\b\b\b\b\b\b\b\b\b\b\b\b\b\b\b\b\b\b\b\b\b\b\b\b\b\b\b\b\b\b\b\b\b\b\b\b\b\b\b\b\b\b\b\b\b\b\b\b\b\b\b\b\b\b\b\b\b\b\b\b\b\b\b\b\b\b\b\b\b\b\b\b\b\b\b\b\b\b\b\b\b\b\b\r298/298 [==============================] - 2s 8ms/step - loss: 0.0182 - mae: 0.0725 - mape_keras: 42.9135 - val_loss: 0.0253 - val_mae: 0.0890 - val_mape_keras: 55.4409\n",
            "Epoch 6/50\n",
            "298/298 [==============================] - ETA: 0s - loss: 0.0173 - mae: 0.0701 - mape_keras: 41.4339"
          ]
        },
        {
          "output_type": "stream",
          "name": "stderr",
          "text": [
            "WARNING:tensorflow:Early stopping conditioned on metric `val_mean_absolute_error` which is not available. Available metrics are: loss,mae,mape_keras,val_loss,val_mae,val_mape_keras\n"
          ]
        },
        {
          "output_type": "stream",
          "name": "stdout",
          "text": [
            "\b\b\b\b\b\b\b\b\b\b\b\b\b\b\b\b\b\b\b\b\b\b\b\b\b\b\b\b\b\b\b\b\b\b\b\b\b\b\b\b\b\b\b\b\b\b\b\b\b\b\b\b\b\b\b\b\b\b\b\b\b\b\b\b\b\b\b\b\b\b\b\b\b\b\b\b\b\b\b\b\b\b\b\b\b\b\b\b\b\b\b\b\b\b\b\b\b\b\b\b\b\r298/298 [==============================] - 2s 7ms/step - loss: 0.0173 - mae: 0.0701 - mape_keras: 41.4339 - val_loss: 0.0258 - val_mae: 0.0784 - val_mape_keras: 41.4397\n",
            "Epoch 7/50\n",
            "298/298 [==============================] - ETA: 0s - loss: 0.0163 - mae: 0.0677 - mape_keras: 39.8804"
          ]
        },
        {
          "output_type": "stream",
          "name": "stderr",
          "text": [
            "WARNING:tensorflow:Early stopping conditioned on metric `val_mean_absolute_error` which is not available. Available metrics are: loss,mae,mape_keras,val_loss,val_mae,val_mape_keras\n"
          ]
        },
        {
          "output_type": "stream",
          "name": "stdout",
          "text": [
            "\b\b\b\b\b\b\b\b\b\b\b\b\b\b\b\b\b\b\b\b\b\b\b\b\b\b\b\b\b\b\b\b\b\b\b\b\b\b\b\b\b\b\b\b\b\b\b\b\b\b\b\b\b\b\b\b\b\b\b\b\b\b\b\b\b\b\b\b\b\b\b\b\b\b\b\b\b\b\b\b\b\b\b\b\b\b\b\b\b\b\b\b\b\b\b\b\b\b\b\b\b\r298/298 [==============================] - 2s 8ms/step - loss: 0.0163 - mae: 0.0677 - mape_keras: 39.8804 - val_loss: 0.0261 - val_mae: 0.0914 - val_mape_keras: 57.4948\n",
            "Epoch 8/50\n",
            "298/298 [==============================] - ETA: 0s - loss: 0.0155 - mae: 0.0657 - mape_keras: 38.7769"
          ]
        },
        {
          "output_type": "stream",
          "name": "stderr",
          "text": [
            "WARNING:tensorflow:Early stopping conditioned on metric `val_mean_absolute_error` which is not available. Available metrics are: loss,mae,mape_keras,val_loss,val_mae,val_mape_keras\n"
          ]
        },
        {
          "output_type": "stream",
          "name": "stdout",
          "text": [
            "\b\b\b\b\b\b\b\b\b\b\b\b\b\b\b\b\b\b\b\b\b\b\b\b\b\b\b\b\b\b\b\b\b\b\b\b\b\b\b\b\b\b\b\b\b\b\b\b\b\b\b\b\b\b\b\b\b\b\b\b\b\b\b\b\b\b\b\b\b\b\b\b\b\b\b\b\b\b\b\b\b\b\b\b\b\b\b\b\b\b\b\b\b\b\b\b\b\b\b\b\b\r298/298 [==============================] - 2s 7ms/step - loss: 0.0155 - mae: 0.0657 - mape_keras: 38.7769 - val_loss: 0.0277 - val_mae: 0.0921 - val_mape_keras: 57.7264\n",
            "Epoch 9/50\n",
            "298/298 [==============================] - ETA: 0s - loss: 0.0147 - mae: 0.0639 - mape_keras: 37.7608"
          ]
        },
        {
          "output_type": "stream",
          "name": "stderr",
          "text": [
            "WARNING:tensorflow:Early stopping conditioned on metric `val_mean_absolute_error` which is not available. Available metrics are: loss,mae,mape_keras,val_loss,val_mae,val_mape_keras\n"
          ]
        },
        {
          "output_type": "stream",
          "name": "stdout",
          "text": [
            "\b\b\b\b\b\b\b\b\b\b\b\b\b\b\b\b\b\b\b\b\b\b\b\b\b\b\b\b\b\b\b\b\b\b\b\b\b\b\b\b\b\b\b\b\b\b\b\b\b\b\b\b\b\b\b\b\b\b\b\b\b\b\b\b\b\b\b\b\b\b\b\b\b\b\b\b\b\b\b\b\b\b\b\b\b\b\b\b\b\b\b\b\b\b\b\b\b\b\b\b\b\r298/298 [==============================] - 2s 7ms/step - loss: 0.0147 - mae: 0.0639 - mape_keras: 37.7608 - val_loss: 0.0276 - val_mae: 0.0801 - val_mape_keras: 42.5641\n",
            "Epoch 10/50\n",
            "298/298 [==============================] - ETA: 0s - loss: 0.0139 - mae: 0.0622 - mape_keras: 36.9189"
          ]
        },
        {
          "output_type": "stream",
          "name": "stderr",
          "text": [
            "WARNING:tensorflow:Early stopping conditioned on metric `val_mean_absolute_error` which is not available. Available metrics are: loss,mae,mape_keras,val_loss,val_mae,val_mape_keras\n"
          ]
        },
        {
          "output_type": "stream",
          "name": "stdout",
          "text": [
            "\b\b\b\b\b\b\b\b\b\b\b\b\b\b\b\b\b\b\b\b\b\b\b\b\b\b\b\b\b\b\b\b\b\b\b\b\b\b\b\b\b\b\b\b\b\b\b\b\b\b\b\b\b\b\b\b\b\b\b\b\b\b\b\b\b\b\b\b\b\b\b\b\b\b\b\b\b\b\b\b\b\b\b\b\b\b\b\b\b\b\b\b\b\b\b\b\b\b\b\b\b\r298/298 [==============================] - 3s 9ms/step - loss: 0.0139 - mae: 0.0622 - mape_keras: 36.9189 - val_loss: 0.0279 - val_mae: 0.0881 - val_mape_keras: 52.2059\n",
            "Epoch 11/50\n",
            "292/298 [============================>.] - ETA: 0s - loss: 0.0132 - mae: 0.0598 - mape_keras: 35.3180"
          ]
        },
        {
          "output_type": "stream",
          "name": "stderr",
          "text": [
            "WARNING:tensorflow:Early stopping conditioned on metric `val_mean_absolute_error` which is not available. Available metrics are: loss,mae,mape_keras,val_loss,val_mae,val_mape_keras\n"
          ]
        },
        {
          "output_type": "stream",
          "name": "stdout",
          "text": [
            "\b\b\b\b\b\b\b\b\b\b\b\b\b\b\b\b\b\b\b\b\b\b\b\b\b\b\b\b\b\b\b\b\b\b\b\b\b\b\b\b\b\b\b\b\b\b\b\b\b\b\b\b\b\b\b\b\b\b\b\b\b\b\b\b\b\b\b\b\b\b\b\b\b\b\b\b\b\b\b\b\b\b\b\b\b\b\b\b\b\b\b\b\b\b\b\b\b\b\b\b\b\r298/298 [==============================] - 2s 7ms/step - loss: 0.0132 - mae: 0.0599 - mape_keras: 35.3268 - val_loss: 0.0300 - val_mae: 0.0938 - val_mape_keras: 58.2109\n",
            "Epoch 12/50\n",
            "298/298 [==============================] - ETA: 0s - loss: 0.0124 - mae: 0.0580 - mape_keras: 34.4398"
          ]
        },
        {
          "output_type": "stream",
          "name": "stderr",
          "text": [
            "WARNING:tensorflow:Early stopping conditioned on metric `val_mean_absolute_error` which is not available. Available metrics are: loss,mae,mape_keras,val_loss,val_mae,val_mape_keras\n"
          ]
        },
        {
          "output_type": "stream",
          "name": "stdout",
          "text": [
            "\b\b\b\b\b\b\b\b\b\b\b\b\b\b\b\b\b\b\b\b\b\b\b\b\b\b\b\b\b\b\b\b\b\b\b\b\b\b\b\b\b\b\b\b\b\b\b\b\b\b\b\b\b\b\b\b\b\b\b\b\b\b\b\b\b\b\b\b\b\b\b\b\b\b\b\b\b\b\b\b\b\b\b\b\b\b\b\b\b\b\b\b\b\b\b\b\b\b\b\b\b\r298/298 [==============================] - 2s 6ms/step - loss: 0.0124 - mae: 0.0580 - mape_keras: 34.4398 - val_loss: 0.0305 - val_mae: 0.0910 - val_mape_keras: 54.4337\n",
            "Epoch 13/50\n",
            "298/298 [==============================] - ETA: 0s - loss: 0.0117 - mae: 0.0566 - mape_keras: 33.6371"
          ]
        },
        {
          "output_type": "stream",
          "name": "stderr",
          "text": [
            "WARNING:tensorflow:Early stopping conditioned on metric `val_mean_absolute_error` which is not available. Available metrics are: loss,mae,mape_keras,val_loss,val_mae,val_mape_keras\n"
          ]
        },
        {
          "output_type": "stream",
          "name": "stdout",
          "text": [
            "\b\b\b\b\b\b\b\b\b\b\b\b\b\b\b\b\b\b\b\b\b\b\b\b\b\b\b\b\b\b\b\b\b\b\b\b\b\b\b\b\b\b\b\b\b\b\b\b\b\b\b\b\b\b\b\b\b\b\b\b\b\b\b\b\b\b\b\b\b\b\b\b\b\b\b\b\b\b\b\b\b\b\b\b\b\b\b\b\b\b\b\b\b\b\b\b\b\b\b\b\b\r298/298 [==============================] - 2s 6ms/step - loss: 0.0117 - mae: 0.0566 - mape_keras: 33.6371 - val_loss: 0.0318 - val_mae: 0.0938 - val_mape_keras: 57.1290\n",
            "Epoch 14/50\n",
            "296/298 [============================>.] - ETA: 0s - loss: 0.0111 - mae: 0.0550 - mape_keras: 32.7483"
          ]
        },
        {
          "output_type": "stream",
          "name": "stderr",
          "text": [
            "WARNING:tensorflow:Early stopping conditioned on metric `val_mean_absolute_error` which is not available. Available metrics are: loss,mae,mape_keras,val_loss,val_mae,val_mape_keras\n"
          ]
        },
        {
          "output_type": "stream",
          "name": "stdout",
          "text": [
            "\b\b\b\b\b\b\b\b\b\b\b\b\b\b\b\b\b\b\b\b\b\b\b\b\b\b\b\b\b\b\b\b\b\b\b\b\b\b\b\b\b\b\b\b\b\b\b\b\b\b\b\b\b\b\b\b\b\b\b\b\b\b\b\b\b\b\b\b\b\b\b\b\b\b\b\b\b\b\b\b\b\b\b\b\b\b\b\b\b\b\b\b\b\b\b\b\b\b\b\b\b\r298/298 [==============================] - 2s 6ms/step - loss: 0.0111 - mae: 0.0550 - mape_keras: 32.7250 - val_loss: 0.0318 - val_mae: 0.0860 - val_mape_keras: 47.0475\n",
            "Epoch 15/50\n",
            "295/298 [============================>.] - ETA: 0s - loss: 0.0104 - mae: 0.0533 - mape_keras: 31.7362"
          ]
        },
        {
          "output_type": "stream",
          "name": "stderr",
          "text": [
            "WARNING:tensorflow:Early stopping conditioned on metric `val_mean_absolute_error` which is not available. Available metrics are: loss,mae,mape_keras,val_loss,val_mae,val_mape_keras\n"
          ]
        },
        {
          "output_type": "stream",
          "name": "stdout",
          "text": [
            "\b\b\b\b\b\b\b\b\b\b\b\b\b\b\b\b\b\b\b\b\b\b\b\b\b\b\b\b\b\b\b\b\b\b\b\b\b\b\b\b\b\b\b\b\b\b\b\b\b\b\b\b\b\b\b\b\b\b\b\b\b\b\b\b\b\b\b\b\b\b\b\b\b\b\b\b\b\b\b\b\b\b\b\b\b\b\b\b\b\b\b\b\b\b\b\b\b\b\b\b\b\r298/298 [==============================] - 2s 6ms/step - loss: 0.0104 - mae: 0.0533 - mape_keras: 31.7473 - val_loss: 0.0318 - val_mae: 0.0893 - val_mape_keras: 51.6191\n",
            "Epoch 16/50\n",
            "298/298 [==============================] - ETA: 0s - loss: 0.0098 - mae: 0.0517 - mape_keras: 30.8672"
          ]
        },
        {
          "output_type": "stream",
          "name": "stderr",
          "text": [
            "WARNING:tensorflow:Early stopping conditioned on metric `val_mean_absolute_error` which is not available. Available metrics are: loss,mae,mape_keras,val_loss,val_mae,val_mape_keras\n"
          ]
        },
        {
          "output_type": "stream",
          "name": "stdout",
          "text": [
            "\b\b\b\b\b\b\b\b\b\b\b\b\b\b\b\b\b\b\b\b\b\b\b\b\b\b\b\b\b\b\b\b\b\b\b\b\b\b\b\b\b\b\b\b\b\b\b\b\b\b\b\b\b\b\b\b\b\b\b\b\b\b\b\b\b\b\b\b\b\b\b\b\b\b\b\b\b\b\b\b\b\b\b\b\b\b\b\b\b\b\b\b\b\b\b\b\b\b\b\b\b\r298/298 [==============================] - 3s 9ms/step - loss: 0.0098 - mae: 0.0517 - mape_keras: 30.8672 - val_loss: 0.0323 - val_mae: 0.0908 - val_mape_keras: 53.0221\n",
            "Epoch 17/50\n",
            "298/298 [==============================] - ETA: 0s - loss: 0.0092 - mae: 0.0503 - mape_keras: 30.0828"
          ]
        },
        {
          "output_type": "stream",
          "name": "stderr",
          "text": [
            "WARNING:tensorflow:Early stopping conditioned on metric `val_mean_absolute_error` which is not available. Available metrics are: loss,mae,mape_keras,val_loss,val_mae,val_mape_keras\n"
          ]
        },
        {
          "output_type": "stream",
          "name": "stdout",
          "text": [
            "\b\b\b\b\b\b\b\b\b\b\b\b\b\b\b\b\b\b\b\b\b\b\b\b\b\b\b\b\b\b\b\b\b\b\b\b\b\b\b\b\b\b\b\b\b\b\b\b\b\b\b\b\b\b\b\b\b\b\b\b\b\b\b\b\b\b\b\b\b\b\b\b\b\b\b\b\b\b\b\b\b\b\b\b\b\b\b\b\b\b\b\b\b\b\b\b\b\b\b\b\b\r298/298 [==============================] - 2s 7ms/step - loss: 0.0092 - mae: 0.0503 - mape_keras: 30.0828 - val_loss: 0.0326 - val_mae: 0.0899 - val_mape_keras: 51.8391\n",
            "Epoch 18/50\n",
            "298/298 [==============================] - ETA: 0s - loss: 0.0087 - mae: 0.0489 - mape_keras: 29.2088"
          ]
        },
        {
          "output_type": "stream",
          "name": "stderr",
          "text": [
            "WARNING:tensorflow:Early stopping conditioned on metric `val_mean_absolute_error` which is not available. Available metrics are: loss,mae,mape_keras,val_loss,val_mae,val_mape_keras\n"
          ]
        },
        {
          "output_type": "stream",
          "name": "stdout",
          "text": [
            "\b\b\b\b\b\b\b\b\b\b\b\b\b\b\b\b\b\b\b\b\b\b\b\b\b\b\b\b\b\b\b\b\b\b\b\b\b\b\b\b\b\b\b\b\b\b\b\b\b\b\b\b\b\b\b\b\b\b\b\b\b\b\b\b\b\b\b\b\b\b\b\b\b\b\b\b\b\b\b\b\b\b\b\b\b\b\b\b\b\b\b\b\b\b\b\b\b\b\b\b\b\r298/298 [==============================] - 2s 6ms/step - loss: 0.0087 - mae: 0.0489 - mape_keras: 29.2088 - val_loss: 0.0337 - val_mae: 0.0909 - val_mape_keras: 52.3224\n",
            "Epoch 19/50\n",
            "292/298 [============================>.] - ETA: 0s - loss: 0.0084 - mae: 0.0481 - mape_keras: 28.7872"
          ]
        },
        {
          "output_type": "stream",
          "name": "stderr",
          "text": [
            "WARNING:tensorflow:Early stopping conditioned on metric `val_mean_absolute_error` which is not available. Available metrics are: loss,mae,mape_keras,val_loss,val_mae,val_mape_keras\n"
          ]
        },
        {
          "output_type": "stream",
          "name": "stdout",
          "text": [
            "\b\b\b\b\b\b\b\b\b\b\b\b\b\b\b\b\b\b\b\b\b\b\b\b\b\b\b\b\b\b\b\b\b\b\b\b\b\b\b\b\b\b\b\b\b\b\b\b\b\b\b\b\b\b\b\b\b\b\b\b\b\b\b\b\b\b\b\b\b\b\b\b\b\b\b\b\b\b\b\b\b\b\b\b\b\b\b\b\b\b\b\b\b\b\b\b\b\b\b\b\b\r298/298 [==============================] - 2s 6ms/step - loss: 0.0084 - mae: 0.0481 - mape_keras: 28.7577 - val_loss: 0.0356 - val_mae: 0.0926 - val_mape_keras: 53.5631\n",
            "Epoch 20/50\n",
            "290/298 [============================>.] - ETA: 0s - loss: 0.0080 - mae: 0.0469 - mape_keras: 28.0202"
          ]
        },
        {
          "output_type": "stream",
          "name": "stderr",
          "text": [
            "WARNING:tensorflow:Early stopping conditioned on metric `val_mean_absolute_error` which is not available. Available metrics are: loss,mae,mape_keras,val_loss,val_mae,val_mape_keras\n"
          ]
        },
        {
          "output_type": "stream",
          "name": "stdout",
          "text": [
            "\b\b\b\b\b\b\b\b\b\b\b\b\b\b\b\b\b\b\b\b\b\b\b\b\b\b\b\b\b\b\b\b\b\b\b\b\b\b\b\b\b\b\b\b\b\b\b\b\b\b\b\b\b\b\b\b\b\b\b\b\b\b\b\b\b\b\b\b\b\b\b\b\b\b\b\b\b\b\b\b\b\b\b\b\b\b\b\b\b\b\b\b\b\b\b\b\b\b\b\b\b\r298/298 [==============================] - 2s 6ms/step - loss: 0.0080 - mae: 0.0469 - mape_keras: 27.9936 - val_loss: 0.0335 - val_mae: 0.0884 - val_mape_keras: 49.0588\n",
            "Epoch 21/50\n",
            "298/298 [==============================] - ETA: 0s - loss: 0.0077 - mae: 0.0462 - mape_keras: 27.6377"
          ]
        },
        {
          "output_type": "stream",
          "name": "stderr",
          "text": [
            "WARNING:tensorflow:Early stopping conditioned on metric `val_mean_absolute_error` which is not available. Available metrics are: loss,mae,mape_keras,val_loss,val_mae,val_mape_keras\n"
          ]
        },
        {
          "output_type": "stream",
          "name": "stdout",
          "text": [
            "\b\b\b\b\b\b\b\b\b\b\b\b\b\b\b\b\b\b\b\b\b\b\b\b\b\b\b\b\b\b\b\b\b\b\b\b\b\b\b\b\b\b\b\b\b\b\b\b\b\b\b\b\b\b\b\b\b\b\b\b\b\b\b\b\b\b\b\b\b\b\b\b\b\b\b\b\b\b\b\b\b\b\b\b\b\b\b\b\b\b\b\b\b\b\b\b\b\b\b\b\b\r298/298 [==============================] - 2s 6ms/step - loss: 0.0077 - mae: 0.0462 - mape_keras: 27.6377 - val_loss: 0.0353 - val_mae: 0.0983 - val_mape_keras: 61.0789\n",
            "Epoch 22/50\n",
            "292/298 [============================>.] - ETA: 0s - loss: 0.0073 - mae: 0.0452 - mape_keras: 27.1344"
          ]
        },
        {
          "output_type": "stream",
          "name": "stderr",
          "text": [
            "WARNING:tensorflow:Early stopping conditioned on metric `val_mean_absolute_error` which is not available. Available metrics are: loss,mae,mape_keras,val_loss,val_mae,val_mape_keras\n"
          ]
        },
        {
          "output_type": "stream",
          "name": "stdout",
          "text": [
            "\b\b\b\b\b\b\b\b\b\b\b\b\b\b\b\b\b\b\b\b\b\b\b\b\b\b\b\b\b\b\b\b\b\b\b\b\b\b\b\b\b\b\b\b\b\b\b\b\b\b\b\b\b\b\b\b\b\b\b\b\b\b\b\b\b\b\b\b\b\b\b\b\b\b\b\b\b\b\b\b\b\b\b\b\b\b\b\b\b\b\b\b\b\b\b\b\b\b\b\b\b\r298/298 [==============================] - 3s 9ms/step - loss: 0.0074 - mae: 0.0452 - mape_keras: 27.1239 - val_loss: 0.0356 - val_mae: 0.0926 - val_mape_keras: 53.3245\n",
            "Epoch 23/50\n",
            "292/298 [============================>.] - ETA: 0s - loss: 0.0070 - mae: 0.0442 - mape_keras: 26.5244"
          ]
        },
        {
          "output_type": "stream",
          "name": "stderr",
          "text": [
            "WARNING:tensorflow:Early stopping conditioned on metric `val_mean_absolute_error` which is not available. Available metrics are: loss,mae,mape_keras,val_loss,val_mae,val_mape_keras\n"
          ]
        },
        {
          "output_type": "stream",
          "name": "stdout",
          "text": [
            "\b\b\b\b\b\b\b\b\b\b\b\b\b\b\b\b\b\b\b\b\b\b\b\b\b\b\b\b\b\b\b\b\b\b\b\b\b\b\b\b\b\b\b\b\b\b\b\b\b\b\b\b\b\b\b\b\b\b\b\b\b\b\b\b\b\b\b\b\b\b\b\b\b\b\b\b\b\b\b\b\b\b\b\b\b\b\b\b\b\b\b\b\b\b\b\b\b\b\b\b\b\r298/298 [==============================] - 2s 6ms/step - loss: 0.0070 - mae: 0.0441 - mape_keras: 26.4732 - val_loss: 0.0358 - val_mae: 0.0913 - val_mape_keras: 51.2839\n",
            "Epoch 24/50\n",
            "296/298 [============================>.] - ETA: 0s - loss: 0.0067 - mae: 0.0432 - mape_keras: 26.0094"
          ]
        },
        {
          "output_type": "stream",
          "name": "stderr",
          "text": [
            "WARNING:tensorflow:Early stopping conditioned on metric `val_mean_absolute_error` which is not available. Available metrics are: loss,mae,mape_keras,val_loss,val_mae,val_mape_keras\n"
          ]
        },
        {
          "output_type": "stream",
          "name": "stdout",
          "text": [
            "\b\b\b\b\b\b\b\b\b\b\b\b\b\b\b\b\b\b\b\b\b\b\b\b\b\b\b\b\b\b\b\b\b\b\b\b\b\b\b\b\b\b\b\b\b\b\b\b\b\b\b\b\b\b\b\b\b\b\b\b\b\b\b\b\b\b\b\b\b\b\b\b\b\b\b\b\b\b\b\b\b\b\b\b\b\b\b\b\b\b\b\b\b\b\b\b\b\b\b\b\b\r298/298 [==============================] - 2s 6ms/step - loss: 0.0067 - mae: 0.0432 - mape_keras: 26.0219 - val_loss: 0.0350 - val_mae: 0.0948 - val_mape_keras: 56.4521\n",
            "Epoch 25/50\n",
            "298/298 [==============================] - ETA: 0s - loss: 0.0065 - mae: 0.0428 - mape_keras: 25.7501"
          ]
        },
        {
          "output_type": "stream",
          "name": "stderr",
          "text": [
            "WARNING:tensorflow:Early stopping conditioned on metric `val_mean_absolute_error` which is not available. Available metrics are: loss,mae,mape_keras,val_loss,val_mae,val_mape_keras\n"
          ]
        },
        {
          "output_type": "stream",
          "name": "stdout",
          "text": [
            "\b\b\b\b\b\b\b\b\b\b\b\b\b\b\b\b\b\b\b\b\b\b\b\b\b\b\b\b\b\b\b\b\b\b\b\b\b\b\b\b\b\b\b\b\b\b\b\b\b\b\b\b\b\b\b\b\b\b\b\b\b\b\b\b\b\b\b\b\b\b\b\b\b\b\b\b\b\b\b\b\b\b\b\b\b\b\b\b\b\b\b\b\b\b\b\b\b\b\b\b\b\r298/298 [==============================] - 2s 7ms/step - loss: 0.0065 - mae: 0.0428 - mape_keras: 25.7501 - val_loss: 0.0367 - val_mae: 0.0953 - val_mape_keras: 56.3177\n",
            "Epoch 26/50\n",
            "296/298 [============================>.] - ETA: 0s - loss: 0.0063 - mae: 0.0420 - mape_keras: 25.2543"
          ]
        },
        {
          "output_type": "stream",
          "name": "stderr",
          "text": [
            "WARNING:tensorflow:Early stopping conditioned on metric `val_mean_absolute_error` which is not available. Available metrics are: loss,mae,mape_keras,val_loss,val_mae,val_mape_keras\n"
          ]
        },
        {
          "output_type": "stream",
          "name": "stdout",
          "text": [
            "\b\b\b\b\b\b\b\b\b\b\b\b\b\b\b\b\b\b\b\b\b\b\b\b\b\b\b\b\b\b\b\b\b\b\b\b\b\b\b\b\b\b\b\b\b\b\b\b\b\b\b\b\b\b\b\b\b\b\b\b\b\b\b\b\b\b\b\b\b\b\b\b\b\b\b\b\b\b\b\b\b\b\b\b\b\b\b\b\b\b\b\b\b\b\b\b\b\b\b\b\b\r298/298 [==============================] - 2s 6ms/step - loss: 0.0063 - mae: 0.0420 - mape_keras: 25.2884 - val_loss: 0.0365 - val_mae: 0.0984 - val_mape_keras: 60.4056\n",
            "Epoch 27/50\n",
            "290/298 [============================>.] - ETA: 0s - loss: 0.0060 - mae: 0.0410 - mape_keras: 24.7180"
          ]
        },
        {
          "output_type": "stream",
          "name": "stderr",
          "text": [
            "WARNING:tensorflow:Early stopping conditioned on metric `val_mean_absolute_error` which is not available. Available metrics are: loss,mae,mape_keras,val_loss,val_mae,val_mape_keras\n"
          ]
        },
        {
          "output_type": "stream",
          "name": "stdout",
          "text": [
            "\b\b\b\b\b\b\b\b\b\b\b\b\b\b\b\b\b\b\b\b\b\b\b\b\b\b\b\b\b\b\b\b\b\b\b\b\b\b\b\b\b\b\b\b\b\b\b\b\b\b\b\b\b\b\b\b\b\b\b\b\b\b\b\b\b\b\b\b\b\b\b\b\b\b\b\b\b\b\b\b\b\b\b\b\b\b\b\b\b\b\b\b\b\b\b\b\b\b\b\b\b\r298/298 [==============================] - 2s 6ms/step - loss: 0.0060 - mae: 0.0411 - mape_keras: 24.7330 - val_loss: 0.0370 - val_mae: 0.0975 - val_mape_keras: 59.1150\n",
            "Epoch 28/50\n",
            "298/298 [==============================] - ETA: 0s - loss: 0.0058 - mae: 0.0405 - mape_keras: 24.4445"
          ]
        },
        {
          "output_type": "stream",
          "name": "stderr",
          "text": [
            "WARNING:tensorflow:Early stopping conditioned on metric `val_mean_absolute_error` which is not available. Available metrics are: loss,mae,mape_keras,val_loss,val_mae,val_mape_keras\n"
          ]
        },
        {
          "output_type": "stream",
          "name": "stdout",
          "text": [
            "\b\b\b\b\b\b\b\b\b\b\b\b\b\b\b\b\b\b\b\b\b\b\b\b\b\b\b\b\b\b\b\b\b\b\b\b\b\b\b\b\b\b\b\b\b\b\b\b\b\b\b\b\b\b\b\b\b\b\b\b\b\b\b\b\b\b\b\b\b\b\b\b\b\b\b\b\b\b\b\b\b\b\b\b\b\b\b\b\b\b\b\b\b\b\b\b\b\b\b\b\b\r298/298 [==============================] - 3s 9ms/step - loss: 0.0058 - mae: 0.0405 - mape_keras: 24.4445 - val_loss: 0.0379 - val_mae: 0.0995 - val_mape_keras: 60.8802\n",
            "Epoch 29/50\n",
            "294/298 [============================>.] - ETA: 0s - loss: 0.0057 - mae: 0.0399 - mape_keras: 24.0932"
          ]
        },
        {
          "output_type": "stream",
          "name": "stderr",
          "text": [
            "WARNING:tensorflow:Early stopping conditioned on metric `val_mean_absolute_error` which is not available. Available metrics are: loss,mae,mape_keras,val_loss,val_mae,val_mape_keras\n"
          ]
        },
        {
          "output_type": "stream",
          "name": "stdout",
          "text": [
            "\b\b\b\b\b\b\b\b\b\b\b\b\b\b\b\b\b\b\b\b\b\b\b\b\b\b\b\b\b\b\b\b\b\b\b\b\b\b\b\b\b\b\b\b\b\b\b\b\b\b\b\b\b\b\b\b\b\b\b\b\b\b\b\b\b\b\b\b\b\b\b\b\b\b\b\b\b\b\b\b\b\b\b\b\b\b\b\b\b\b\b\b\b\b\b\b\b\b\b\b\b\r298/298 [==============================] - 2s 7ms/step - loss: 0.0057 - mae: 0.0399 - mape_keras: 24.0675 - val_loss: 0.0350 - val_mae: 0.0931 - val_mape_keras: 54.6665\n",
            "Epoch 30/50\n",
            "298/298 [==============================] - ETA: 0s - loss: 0.0056 - mae: 0.0399 - mape_keras: 24.1233"
          ]
        },
        {
          "output_type": "stream",
          "name": "stderr",
          "text": [
            "WARNING:tensorflow:Early stopping conditioned on metric `val_mean_absolute_error` which is not available. Available metrics are: loss,mae,mape_keras,val_loss,val_mae,val_mape_keras\n"
          ]
        },
        {
          "output_type": "stream",
          "name": "stdout",
          "text": [
            "\b\b\b\b\b\b\b\b\b\b\b\b\b\b\b\b\b\b\b\b\b\b\b\b\b\b\b\b\b\b\b\b\b\b\b\b\b\b\b\b\b\b\b\b\b\b\b\b\b\b\b\b\b\b\b\b\b\b\b\b\b\b\b\b\b\b\b\b\b\b\b\b\b\b\b\b\b\b\b\b\b\b\b\b\b\b\b\b\b\b\b\b\b\b\b\b\b\b\b\b\b\r298/298 [==============================] - 2s 6ms/step - loss: 0.0056 - mae: 0.0399 - mape_keras: 24.1233 - val_loss: 0.0379 - val_mae: 0.0959 - val_mape_keras: 56.5593\n",
            "Epoch 31/50\n",
            "298/298 [==============================] - ETA: 0s - loss: 0.0054 - mae: 0.0391 - mape_keras: 23.6751"
          ]
        },
        {
          "output_type": "stream",
          "name": "stderr",
          "text": [
            "WARNING:tensorflow:Early stopping conditioned on metric `val_mean_absolute_error` which is not available. Available metrics are: loss,mae,mape_keras,val_loss,val_mae,val_mape_keras\n"
          ]
        },
        {
          "output_type": "stream",
          "name": "stdout",
          "text": [
            "\b\b\b\b\b\b\b\b\b\b\b\b\b\b\b\b\b\b\b\b\b\b\b\b\b\b\b\b\b\b\b\b\b\b\b\b\b\b\b\b\b\b\b\b\b\b\b\b\b\b\b\b\b\b\b\b\b\b\b\b\b\b\b\b\b\b\b\b\b\b\b\b\b\b\b\b\b\b\b\b\b\b\b\b\b\b\b\b\b\b\b\b\b\b\b\b\b\b\b\b\b\r298/298 [==============================] - 2s 7ms/step - loss: 0.0054 - mae: 0.0391 - mape_keras: 23.6751 - val_loss: 0.0360 - val_mae: 0.0943 - val_mape_keras: 55.2748\n",
            "Epoch 32/50\n",
            "290/298 [============================>.] - ETA: 0s - loss: 0.0051 - mae: 0.0381 - mape_keras: 22.9823"
          ]
        },
        {
          "output_type": "stream",
          "name": "stderr",
          "text": [
            "WARNING:tensorflow:Early stopping conditioned on metric `val_mean_absolute_error` which is not available. Available metrics are: loss,mae,mape_keras,val_loss,val_mae,val_mape_keras\n"
          ]
        },
        {
          "output_type": "stream",
          "name": "stdout",
          "text": [
            "\b\b\b\b\b\b\b\b\b\b\b\b\b\b\b\b\b\b\b\b\b\b\b\b\b\b\b\b\b\b\b\b\b\b\b\b\b\b\b\b\b\b\b\b\b\b\b\b\b\b\b\b\b\b\b\b\b\b\b\b\b\b\b\b\b\b\b\b\b\b\b\b\b\b\b\b\b\b\b\b\b\b\b\b\b\b\b\b\b\b\b\b\b\b\b\b\b\b\b\b\b\r298/298 [==============================] - 2s 6ms/step - loss: 0.0051 - mae: 0.0381 - mape_keras: 22.9651 - val_loss: 0.0380 - val_mae: 0.0971 - val_mape_keras: 58.0926\n",
            "Epoch 33/50\n",
            "293/298 [============================>.] - ETA: 0s - loss: 0.0051 - mae: 0.0380 - mape_keras: 23.0214"
          ]
        },
        {
          "output_type": "stream",
          "name": "stderr",
          "text": [
            "WARNING:tensorflow:Early stopping conditioned on metric `val_mean_absolute_error` which is not available. Available metrics are: loss,mae,mape_keras,val_loss,val_mae,val_mape_keras\n"
          ]
        },
        {
          "output_type": "stream",
          "name": "stdout",
          "text": [
            "\b\b\b\b\b\b\b\b\b\b\b\b\b\b\b\b\b\b\b\b\b\b\b\b\b\b\b\b\b\b\b\b\b\b\b\b\b\b\b\b\b\b\b\b\b\b\b\b\b\b\b\b\b\b\b\b\b\b\b\b\b\b\b\b\b\b\b\b\b\b\b\b\b\b\b\b\b\b\b\b\b\b\b\b\b\b\b\b\b\b\b\b\b\b\b\b\b\b\b\b\b\r298/298 [==============================] - 2s 6ms/step - loss: 0.0051 - mae: 0.0381 - mape_keras: 23.0742 - val_loss: 0.0388 - val_mae: 0.0976 - val_mape_keras: 57.5733\n",
            "Epoch 34/50\n",
            "294/298 [============================>.] - ETA: 0s - loss: 0.0050 - mae: 0.0374 - mape_keras: 22.6455"
          ]
        },
        {
          "output_type": "stream",
          "name": "stderr",
          "text": [
            "WARNING:tensorflow:Early stopping conditioned on metric `val_mean_absolute_error` which is not available. Available metrics are: loss,mae,mape_keras,val_loss,val_mae,val_mape_keras\n"
          ]
        },
        {
          "output_type": "stream",
          "name": "stdout",
          "text": [
            "\b\b\b\b\b\b\b\b\b\b\b\b\b\b\b\b\b\b\b\b\b\b\b\b\b\b\b\b\b\b\b\b\b\b\b\b\b\b\b\b\b\b\b\b\b\b\b\b\b\b\b\b\b\b\b\b\b\b\b\b\b\b\b\b\b\b\b\b\b\b\b\b\b\b\b\b\b\b\b\b\b\b\b\b\b\b\b\b\b\b\b\b\b\b\b\b\b\b\b\b\b\r298/298 [==============================] - 3s 9ms/step - loss: 0.0050 - mae: 0.0374 - mape_keras: 22.6646 - val_loss: 0.0395 - val_mae: 0.1011 - val_mape_keras: 62.5672\n",
            "Epoch 35/50\n",
            "298/298 [==============================] - ETA: 0s - loss: 0.0049 - mae: 0.0371 - mape_keras: 22.4911"
          ]
        },
        {
          "output_type": "stream",
          "name": "stderr",
          "text": [
            "WARNING:tensorflow:Early stopping conditioned on metric `val_mean_absolute_error` which is not available. Available metrics are: loss,mae,mape_keras,val_loss,val_mae,val_mape_keras\n"
          ]
        },
        {
          "output_type": "stream",
          "name": "stdout",
          "text": [
            "\b\b\b\b\b\b\b\b\b\b\b\b\b\b\b\b\b\b\b\b\b\b\b\b\b\b\b\b\b\b\b\b\b\b\b\b\b\b\b\b\b\b\b\b\b\b\b\b\b\b\b\b\b\b\b\b\b\b\b\b\b\b\b\b\b\b\b\b\b\b\b\b\b\b\b\b\b\b\b\b\b\b\b\b\b\b\b\b\b\b\b\b\b\b\b\b\b\b\b\b\b\r298/298 [==============================] - 2s 7ms/step - loss: 0.0049 - mae: 0.0371 - mape_keras: 22.4911 - val_loss: 0.0388 - val_mae: 0.0974 - val_mape_keras: 57.7633\n",
            "Epoch 36/50\n",
            "293/298 [============================>.] - ETA: 0s - loss: 0.0048 - mae: 0.0369 - mape_keras: 22.4674"
          ]
        },
        {
          "output_type": "stream",
          "name": "stderr",
          "text": [
            "WARNING:tensorflow:Early stopping conditioned on metric `val_mean_absolute_error` which is not available. Available metrics are: loss,mae,mape_keras,val_loss,val_mae,val_mape_keras\n"
          ]
        },
        {
          "output_type": "stream",
          "name": "stdout",
          "text": [
            "\b\b\b\b\b\b\b\b\b\b\b\b\b\b\b\b\b\b\b\b\b\b\b\b\b\b\b\b\b\b\b\b\b\b\b\b\b\b\b\b\b\b\b\b\b\b\b\b\b\b\b\b\b\b\b\b\b\b\b\b\b\b\b\b\b\b\b\b\b\b\b\b\b\b\b\b\b\b\b\b\b\b\b\b\b\b\b\b\b\b\b\b\b\b\b\b\b\b\b\b\b\r298/298 [==============================] - 2s 6ms/step - loss: 0.0048 - mae: 0.0369 - mape_keras: 22.4427 - val_loss: 0.0369 - val_mae: 0.0940 - val_mape_keras: 54.6790\n",
            "Epoch 37/50\n",
            "296/298 [============================>.] - ETA: 0s - loss: 0.0047 - mae: 0.0365 - mape_keras: 22.1683"
          ]
        },
        {
          "output_type": "stream",
          "name": "stderr",
          "text": [
            "WARNING:tensorflow:Early stopping conditioned on metric `val_mean_absolute_error` which is not available. Available metrics are: loss,mae,mape_keras,val_loss,val_mae,val_mape_keras\n"
          ]
        },
        {
          "output_type": "stream",
          "name": "stdout",
          "text": [
            "\b\b\b\b\b\b\b\b\b\b\b\b\b\b\b\b\b\b\b\b\b\b\b\b\b\b\b\b\b\b\b\b\b\b\b\b\b\b\b\b\b\b\b\b\b\b\b\b\b\b\b\b\b\b\b\b\b\b\b\b\b\b\b\b\b\b\b\b\b\b\b\b\b\b\b\b\b\b\b\b\b\b\b\b\b\b\b\b\b\b\b\b\b\b\b\b\b\b\b\b\b\r298/298 [==============================] - 2s 6ms/step - loss: 0.0047 - mae: 0.0365 - mape_keras: 22.1597 - val_loss: 0.0380 - val_mae: 0.0990 - val_mape_keras: 60.3052\n",
            "Epoch 38/50\n",
            "297/298 [============================>.] - ETA: 0s - loss: 0.0046 - mae: 0.0361 - mape_keras: 21.9384"
          ]
        },
        {
          "output_type": "stream",
          "name": "stderr",
          "text": [
            "WARNING:tensorflow:Early stopping conditioned on metric `val_mean_absolute_error` which is not available. Available metrics are: loss,mae,mape_keras,val_loss,val_mae,val_mape_keras\n"
          ]
        },
        {
          "output_type": "stream",
          "name": "stdout",
          "text": [
            "\b\b\b\b\b\b\b\b\b\b\b\b\b\b\b\b\b\b\b\b\b\b\b\b\b\b\b\b\b\b\b\b\b\b\b\b\b\b\b\b\b\b\b\b\b\b\b\b\b\b\b\b\b\b\b\b\b\b\b\b\b\b\b\b\b\b\b\b\b\b\b\b\b\b\b\b\b\b\b\b\b\b\b\b\b\b\b\b\b\b\b\b\b\b\b\b\b\b\b\b\b\r298/298 [==============================] - 2s 6ms/step - loss: 0.0046 - mae: 0.0361 - mape_keras: 21.9416 - val_loss: 0.0382 - val_mae: 0.0984 - val_mape_keras: 59.2864\n",
            "Epoch 39/50\n",
            "298/298 [==============================] - ETA: 0s - loss: 0.0045 - mae: 0.0360 - mape_keras: 21.8995"
          ]
        },
        {
          "output_type": "stream",
          "name": "stderr",
          "text": [
            "WARNING:tensorflow:Early stopping conditioned on metric `val_mean_absolute_error` which is not available. Available metrics are: loss,mae,mape_keras,val_loss,val_mae,val_mape_keras\n"
          ]
        },
        {
          "output_type": "stream",
          "name": "stdout",
          "text": [
            "\b\b\b\b\b\b\b\b\b\b\b\b\b\b\b\b\b\b\b\b\b\b\b\b\b\b\b\b\b\b\b\b\b\b\b\b\b\b\b\b\b\b\b\b\b\b\b\b\b\b\b\b\b\b\b\b\b\b\b\b\b\b\b\b\b\b\b\b\b\b\b\b\b\b\b\b\b\b\b\b\b\b\b\b\b\b\b\b\b\b\b\b\b\b\b\b\b\b\b\b\b\r298/298 [==============================] - 2s 7ms/step - loss: 0.0045 - mae: 0.0360 - mape_keras: 21.8995 - val_loss: 0.0402 - val_mae: 0.0991 - val_mape_keras: 59.5391\n",
            "Epoch 40/50\n",
            "298/298 [==============================] - ETA: 0s - loss: 0.0043 - mae: 0.0354 - mape_keras: 21.5241"
          ]
        },
        {
          "output_type": "stream",
          "name": "stderr",
          "text": [
            "WARNING:tensorflow:Early stopping conditioned on metric `val_mean_absolute_error` which is not available. Available metrics are: loss,mae,mape_keras,val_loss,val_mae,val_mape_keras\n"
          ]
        },
        {
          "output_type": "stream",
          "name": "stdout",
          "text": [
            "\b\b\b\b\b\b\b\b\b\b\b\b\b\b\b\b\b\b\b\b\b\b\b\b\b\b\b\b\b\b\b\b\b\b\b\b\b\b\b\b\b\b\b\b\b\b\b\b\b\b\b\b\b\b\b\b\b\b\b\b\b\b\b\b\b\b\b\b\b\b\b\b\b\b\b\b\b\b\b\b\b\b\b\b\b\b\b\b\b\b\b\b\b\b\b\b\b\b\b\b\b\r298/298 [==============================] - 3s 9ms/step - loss: 0.0043 - mae: 0.0354 - mape_keras: 21.5241 - val_loss: 0.0373 - val_mae: 0.0979 - val_mape_keras: 59.3985\n",
            "Epoch 41/50\n",
            "298/298 [==============================] - ETA: 0s - loss: 0.0043 - mae: 0.0355 - mape_keras: 21.6097"
          ]
        },
        {
          "output_type": "stream",
          "name": "stderr",
          "text": [
            "WARNING:tensorflow:Early stopping conditioned on metric `val_mean_absolute_error` which is not available. Available metrics are: loss,mae,mape_keras,val_loss,val_mae,val_mape_keras\n"
          ]
        },
        {
          "output_type": "stream",
          "name": "stdout",
          "text": [
            "\b\b\b\b\b\b\b\b\b\b\b\b\b\b\b\b\b\b\b\b\b\b\b\b\b\b\b\b\b\b\b\b\b\b\b\b\b\b\b\b\b\b\b\b\b\b\b\b\b\b\b\b\b\b\b\b\b\b\b\b\b\b\b\b\b\b\b\b\b\b\b\b\b\b\b\b\b\b\b\b\b\b\b\b\b\b\b\b\b\b\b\b\b\b\b\b\b\b\b\b\b\r298/298 [==============================] - 2s 7ms/step - loss: 0.0043 - mae: 0.0355 - mape_keras: 21.6097 - val_loss: 0.0395 - val_mae: 0.0991 - val_mape_keras: 59.5574\n",
            "Epoch 42/50\n",
            "289/298 [============================>.] - ETA: 0s - loss: 0.0042 - mae: 0.0350 - mape_keras: 21.3122"
          ]
        },
        {
          "output_type": "stream",
          "name": "stderr",
          "text": [
            "WARNING:tensorflow:Early stopping conditioned on metric `val_mean_absolute_error` which is not available. Available metrics are: loss,mae,mape_keras,val_loss,val_mae,val_mape_keras\n"
          ]
        },
        {
          "output_type": "stream",
          "name": "stdout",
          "text": [
            "\b\b\b\b\b\b\b\b\b\b\b\b\b\b\b\b\b\b\b\b\b\b\b\b\b\b\b\b\b\b\b\b\b\b\b\b\b\b\b\b\b\b\b\b\b\b\b\b\b\b\b\b\b\b\b\b\b\b\b\b\b\b\b\b\b\b\b\b\b\b\b\b\b\b\b\b\b\b\b\b\b\b\b\b\b\b\b\b\b\b\b\b\b\b\b\b\b\b\b\b\b\r298/298 [==============================] - 2s 6ms/step - loss: 0.0042 - mae: 0.0350 - mape_keras: 21.3258 - val_loss: 0.0366 - val_mae: 0.0945 - val_mape_keras: 55.1939\n",
            "Epoch 43/50\n",
            "291/298 [============================>.] - ETA: 0s - loss: 0.0042 - mae: 0.0345 - mape_keras: 20.9920"
          ]
        },
        {
          "output_type": "stream",
          "name": "stderr",
          "text": [
            "WARNING:tensorflow:Early stopping conditioned on metric `val_mean_absolute_error` which is not available. Available metrics are: loss,mae,mape_keras,val_loss,val_mae,val_mape_keras\n"
          ]
        },
        {
          "output_type": "stream",
          "name": "stdout",
          "text": [
            "\b\b\b\b\b\b\b\b\b\b\b\b\b\b\b\b\b\b\b\b\b\b\b\b\b\b\b\b\b\b\b\b\b\b\b\b\b\b\b\b\b\b\b\b\b\b\b\b\b\b\b\b\b\b\b\b\b\b\b\b\b\b\b\b\b\b\b\b\b\b\b\b\b\b\b\b\b\b\b\b\b\b\b\b\b\b\b\b\b\b\b\b\b\b\b\b\b\b\b\b\b\r298/298 [==============================] - 2s 6ms/step - loss: 0.0042 - mae: 0.0345 - mape_keras: 21.0153 - val_loss: 0.0362 - val_mae: 0.0936 - val_mape_keras: 54.2915\n",
            "Epoch 44/50\n",
            "291/298 [============================>.] - ETA: 0s - loss: 0.0040 - mae: 0.0341 - mape_keras: 20.7767"
          ]
        },
        {
          "output_type": "stream",
          "name": "stderr",
          "text": [
            "WARNING:tensorflow:Early stopping conditioned on metric `val_mean_absolute_error` which is not available. Available metrics are: loss,mae,mape_keras,val_loss,val_mae,val_mape_keras\n"
          ]
        },
        {
          "output_type": "stream",
          "name": "stdout",
          "text": [
            "\b\b\b\b\b\b\b\b\b\b\b\b\b\b\b\b\b\b\b\b\b\b\b\b\b\b\b\b\b\b\b\b\b\b\b\b\b\b\b\b\b\b\b\b\b\b\b\b\b\b\b\b\b\b\b\b\b\b\b\b\b\b\b\b\b\b\b\b\b\b\b\b\b\b\b\b\b\b\b\b\b\b\b\b\b\b\b\b\b\b\b\b\b\b\b\b\b\b\b\b\b\r298/298 [==============================] - 2s 6ms/step - loss: 0.0040 - mae: 0.0341 - mape_keras: 20.7652 - val_loss: 0.0379 - val_mae: 0.0968 - val_mape_keras: 57.7812\n",
            "Epoch 45/50\n",
            "291/298 [============================>.] - ETA: 0s - loss: 0.0040 - mae: 0.0338 - mape_keras: 20.5892"
          ]
        },
        {
          "output_type": "stream",
          "name": "stderr",
          "text": [
            "WARNING:tensorflow:Early stopping conditioned on metric `val_mean_absolute_error` which is not available. Available metrics are: loss,mae,mape_keras,val_loss,val_mae,val_mape_keras\n"
          ]
        },
        {
          "output_type": "stream",
          "name": "stdout",
          "text": [
            "\b\b\b\b\b\b\b\b\b\b\b\b\b\b\b\b\b\b\b\b\b\b\b\b\b\b\b\b\b\b\b\b\b\b\b\b\b\b\b\b\b\b\b\b\b\b\b\b\b\b\b\b\b\b\b\b\b\b\b\b\b\b\b\b\b\b\b\b\b\b\b\b\b\b\b\b\b\b\b\b\b\b\b\b\b\b\b\b\b\b\b\b\b\b\b\b\b\b\b\b\b\r298/298 [==============================] - 2s 6ms/step - loss: 0.0040 - mae: 0.0337 - mape_keras: 20.5521 - val_loss: 0.0376 - val_mae: 0.0958 - val_mape_keras: 56.7584\n",
            "Epoch 46/50\n",
            "298/298 [==============================] - ETA: 0s - loss: 0.0040 - mae: 0.0338 - mape_keras: 20.5189"
          ]
        },
        {
          "output_type": "stream",
          "name": "stderr",
          "text": [
            "WARNING:tensorflow:Early stopping conditioned on metric `val_mean_absolute_error` which is not available. Available metrics are: loss,mae,mape_keras,val_loss,val_mae,val_mape_keras\n"
          ]
        },
        {
          "output_type": "stream",
          "name": "stdout",
          "text": [
            "\b\b\b\b\b\b\b\b\b\b\b\b\b\b\b\b\b\b\b\b\b\b\b\b\b\b\b\b\b\b\b\b\b\b\b\b\b\b\b\b\b\b\b\b\b\b\b\b\b\b\b\b\b\b\b\b\b\b\b\b\b\b\b\b\b\b\b\b\b\b\b\b\b\b\b\b\b\b\b\b\b\b\b\b\b\b\b\b\b\b\b\b\b\b\b\b\b\b\b\b\b\r298/298 [==============================] - 2s 8ms/step - loss: 0.0040 - mae: 0.0338 - mape_keras: 20.5189 - val_loss: 0.0375 - val_mae: 0.0974 - val_mape_keras: 58.4732\n",
            "Epoch 47/50\n",
            "292/298 [============================>.] - ETA: 0s - loss: 0.0039 - mae: 0.0335 - mape_keras: 20.4011"
          ]
        },
        {
          "output_type": "stream",
          "name": "stderr",
          "text": [
            "WARNING:tensorflow:Early stopping conditioned on metric `val_mean_absolute_error` which is not available. Available metrics are: loss,mae,mape_keras,val_loss,val_mae,val_mape_keras\n"
          ]
        },
        {
          "output_type": "stream",
          "name": "stdout",
          "text": [
            "\b\b\b\b\b\b\b\b\b\b\b\b\b\b\b\b\b\b\b\b\b\b\b\b\b\b\b\b\b\b\b\b\b\b\b\b\b\b\b\b\b\b\b\b\b\b\b\b\b\b\b\b\b\b\b\b\b\b\b\b\b\b\b\b\b\b\b\b\b\b\b\b\b\b\b\b\b\b\b\b\b\b\b\b\b\b\b\b\b\b\b\b\b\b\b\b\b\b\b\b\b\r298/298 [==============================] - 2s 8ms/step - loss: 0.0039 - mae: 0.0335 - mape_keras: 20.4107 - val_loss: 0.0386 - val_mae: 0.0982 - val_mape_keras: 59.1112\n",
            "Epoch 48/50\n",
            "294/298 [============================>.] - ETA: 0s - loss: 0.0038 - mae: 0.0332 - mape_keras: 20.1596"
          ]
        },
        {
          "output_type": "stream",
          "name": "stderr",
          "text": [
            "WARNING:tensorflow:Early stopping conditioned on metric `val_mean_absolute_error` which is not available. Available metrics are: loss,mae,mape_keras,val_loss,val_mae,val_mape_keras\n"
          ]
        },
        {
          "output_type": "stream",
          "name": "stdout",
          "text": [
            "\b\b\b\b\b\b\b\b\b\b\b\b\b\b\b\b\b\b\b\b\b\b\b\b\b\b\b\b\b\b\b\b\b\b\b\b\b\b\b\b\b\b\b\b\b\b\b\b\b\b\b\b\b\b\b\b\b\b\b\b\b\b\b\b\b\b\b\b\b\b\b\b\b\b\b\b\b\b\b\b\b\b\b\b\b\b\b\b\b\b\b\b\b\b\b\b\b\b\b\b\b\r298/298 [==============================] - 2s 6ms/step - loss: 0.0038 - mae: 0.0332 - mape_keras: 20.1674 - val_loss: 0.0395 - val_mae: 0.0961 - val_mape_keras: 56.0662\n",
            "Epoch 49/50\n",
            "296/298 [============================>.] - ETA: 0s - loss: 0.0037 - mae: 0.0327 - mape_keras: 19.8602"
          ]
        },
        {
          "output_type": "stream",
          "name": "stderr",
          "text": [
            "WARNING:tensorflow:Early stopping conditioned on metric `val_mean_absolute_error` which is not available. Available metrics are: loss,mae,mape_keras,val_loss,val_mae,val_mape_keras\n"
          ]
        },
        {
          "output_type": "stream",
          "name": "stdout",
          "text": [
            "\b\b\b\b\b\b\b\b\b\b\b\b\b\b\b\b\b\b\b\b\b\b\b\b\b\b\b\b\b\b\b\b\b\b\b\b\b\b\b\b\b\b\b\b\b\b\b\b\b\b\b\b\b\b\b\b\b\b\b\b\b\b\b\b\b\b\b\b\b\b\b\b\b\b\b\b\b\b\b\b\b\b\b\b\b\b\b\b\b\b\b\b\b\b\b\b\b\b\b\b\b\r298/298 [==============================] - 2s 6ms/step - loss: 0.0037 - mae: 0.0327 - mape_keras: 19.8690 - val_loss: 0.0383 - val_mae: 0.0992 - val_mape_keras: 60.3483\n",
            "Epoch 50/50\n",
            "291/298 [============================>.] - ETA: 0s - loss: 0.0037 - mae: 0.0327 - mape_keras: 19.8877"
          ]
        },
        {
          "output_type": "stream",
          "name": "stderr",
          "text": [
            "WARNING:tensorflow:Early stopping conditioned on metric `val_mean_absolute_error` which is not available. Available metrics are: loss,mae,mape_keras,val_loss,val_mae,val_mape_keras\n"
          ]
        },
        {
          "output_type": "stream",
          "name": "stdout",
          "text": [
            "\b\b\b\b\b\b\b\b\b\b\b\b\b\b\b\b\b\b\b\b\b\b\b\b\b\b\b\b\b\b\b\b\b\b\b\b\b\b\b\b\b\b\b\b\b\b\b\b\b\b\b\b\b\b\b\b\b\b\b\b\b\b\b\b\b\b\b\b\b\b\b\b\b\b\b\b\b\b\b\b\b\b\b\b\b\b\b\b\b\b\b\b\b\b\b\b\b\b\b\b\b\r298/298 [==============================] - 2s 6ms/step - loss: 0.0037 - mae: 0.0327 - mape_keras: 19.9214 - val_loss: 0.0390 - val_mae: 0.0986 - val_mape_keras: 58.8254\n"
          ]
        }
      ]
    },
    {
      "cell_type": "markdown",
      "metadata": {
        "id": "_1bLRaV1VRNx"
      },
      "source": [
        "# Evaluation model prediction over the test set"
      ]
    },
    {
      "cell_type": "code",
      "metadata": {
        "id": "4Zi71CQmVRNx",
        "colab": {
          "base_uri": "https://localhost:8080/"
        },
        "outputId": "be81df3d-3f9b-48af-b729-06fee1f932dc"
      },
      "source": [
        "tr_info = get_metrics(model, transform(tr_idxs), tr_vals)\n",
        "te_info = get_metrics(model, transform(te_idxs), te_vals)"
      ],
      "execution_count": 37,
      "outputs": [
        {
          "output_type": "stream",
          "name": "stdout",
          "text": [
            "83/83 [==============================] - 0s 2ms/step\n",
            "21/21 [==============================] - 0s 2ms/step\n"
          ]
        }
      ]
    },
    {
      "cell_type": "code",
      "metadata": {
        "id": "_RT8lnIlXtsx",
        "colab": {
          "base_uri": "https://localhost:8080/"
        },
        "outputId": "61436801-b6b2-4ebd-ea5f-5099d97dc69c"
      },
      "source": [
        "pprint({'train': tr_info})"
      ],
      "execution_count": 25,
      "outputs": [
        {
          "output_type": "stream",
          "name": "stdout",
          "text": [
            "{'train': {'mae': 0.038172314558212746,\n",
            "           'mape': 22.542594515942145,\n",
            "           'rmse': 0.08550530942846674}}\n"
          ]
        }
      ]
    },
    {
      "cell_type": "code",
      "source": [
        "pprint({'test': te_info})"
      ],
      "metadata": {
        "id": "eC9N9qpLV4Zr",
        "outputId": "b514cb13-7096-487b-b74b-1d75384a1925",
        "colab": {
          "base_uri": "https://localhost:8080/"
        }
      },
      "execution_count": 26,
      "outputs": [
        {
          "output_type": "stream",
          "name": "stdout",
          "text": [
            "{'test': {'mae': 0.09540652910370986,\n",
            "          'mape': 56.83021305364622,\n",
            "          'rmse': 0.19719356878624342}}\n"
          ]
        }
      ]
    },
    {
      "cell_type": "code",
      "source": [
        "pprint({'train': tr_info})"
      ],
      "metadata": {
        "id": "MvLu8AtRV7vG",
        "outputId": "7fff183f-7bcd-46f4-acb5-dd7cec2e265d",
        "colab": {
          "base_uri": "https://localhost:8080/"
        }
      },
      "execution_count": 38,
      "outputs": [
        {
          "output_type": "stream",
          "name": "stdout",
          "text": [
            "{'train': {'mae': 0.037989188151755934,\n",
            "           'mape': 22.97265276326988,\n",
            "           'rmse': 0.08279467166149128}}\n"
          ]
        }
      ]
    },
    {
      "cell_type": "code",
      "source": [
        "pprint({'test': te_info})"
      ],
      "metadata": {
        "id": "p8eXEdxPX91b",
        "outputId": "02c9cb91-4c75-418f-d0e3-24d05da9b860",
        "colab": {
          "base_uri": "https://localhost:8080/"
        }
      },
      "execution_count": 39,
      "outputs": [
        {
          "output_type": "stream",
          "name": "stdout",
          "text": [
            "{'test': {'mae': 0.09717790047385264,\n",
            "          'mape': 57.92255575443585,\n",
            "          'rmse': 0.19743315658205285}}\n"
          ]
        }
      ]
    }
  ]
}