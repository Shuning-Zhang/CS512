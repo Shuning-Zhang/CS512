{
  "cells": [
    {
      "cell_type": "markdown",
      "metadata": {
        "id": "PJRhgXMRZJMa"
      },
      "source": [
        "# Imports"
      ]
    },
    {
      "cell_type": "code",
      "execution_count": 1,
      "metadata": {
        "id": "GMZej76fZPqZ"
      },
      "outputs": [],
      "source": [
        "import os\n",
        "import json\n",
        "# import urllib2\n",
        "# import zipfile\n",
        "from pprint import pprint\n",
        "\n",
        "import numpy as np\n",
        "import tensorflow as tf\n",
        "import keras as k"
      ]
    },
    {
      "cell_type": "code",
      "execution_count": 13,
      "metadata": {
        "colab": {
          "base_uri": "https://localhost:8080/"
        },
        "id": "XRmgLJIeMd1Q",
        "outputId": "17700f7f-219b-4ee2-c114-843885a16455"
      },
      "outputs": [
        {
          "name": "stdout",
          "output_type": "stream",
          "text": [
            "/bin/bash: line 1: conda: command not found\n"
          ]
        }
      ],
      "source": [
        "! conda install tensorflow==1.14.0\n"
      ]
    },
    {
      "cell_type": "markdown",
      "metadata": {
        "id": "jHGhMhifVRNo"
      },
      "source": [
        "# Load data"
      ]
    },
    {
      "cell_type": "code",
      "execution_count": 2,
      "metadata": {
        "id": "kueTfyY3Yht2"
      },
      "outputs": [],
      "source": [
        "data_folder = '/content/'\n",
        "\n"
      ]
    },
    {
      "cell_type": "code",
      "execution_count": 3,
      "metadata": {
        "id": "-Ilig1cCVRNp"
      },
      "outputs": [],
      "source": [
        "shape = np.loadtxt(os.path.join(data_folder, 'tensor_shape.txt')).astype(int)\n",
        "tr_idxs = np.loadtxt(os.path.join(data_folder, 'train_indices.txt')).astype(int)\n",
        "tr_vals = np.loadtxt(os.path.join(data_folder, 'train_values.txt'))\n",
        "te_idxs = np.loadtxt(os.path.join(data_folder, 'test_indices.txt')).astype(int)\n",
        "te_vals = np.loadtxt(os.path.join(data_folder, 'test_values.txt'))"
      ]
    },
    {
      "cell_type": "markdown",
      "metadata": {
        "id": "AB4BuZRbVRNY"
      },
      "source": [
        "# Define util functions"
      ]
    },
    {
      "cell_type": "code",
      "execution_count": 29,
      "metadata": {
        "id": "4MmoK-zQVRNZ"
      },
      "outputs": [],
      "source": [
        "def mape_keras(y_true, y_pred, threshold=0.1):\n",
        "    v = k.backend.clip(k.backend.abs(y_true), threshold, None)\n",
        "    diff = k.backend.abs((y_true - y_pred) / v)\n",
        "    return 100.0 * k.backend.mean(diff, axis=-1)\n",
        "\n",
        "def mae(y_true, y_pred):\n",
        "    return np.mean(np.abs(y_pred - y_true))\n",
        "\n",
        "def rmse(y_true, y_pred):\n",
        "    return np.sqrt(np.mean(np.square(y_pred - y_true)))\n",
        "\n",
        "def mape(y_true, y_pred, threshold=0.1):\n",
        "    v = np.clip(np.abs(y_true), threshold, None)\n",
        "    diff = np.abs((y_true - y_pred) / v)\n",
        "    return 100.0 * np.mean(diff, axis=-1).mean()\n",
        "\n",
        "def transform(idxs):\n",
        "    return [idxs[:, i] for i in range(idxs.shape[1])]\n",
        "\n",
        "# def set_session(device_count=None, seed=0):\n",
        "#     gpus = tf.config.list_physical_devices('GPU')\n",
        "#     for gpu in gpus:\n",
        "#       config = tf.config.experimental.set_memory_growth(gpu, True)\n",
        "#     print(gpu)\n",
        "#     session = tf.compat.v1.Session(config=config)\n",
        "#     tf.compat.v1.keras.backend.set_session(session)\n",
        "\n",
        "#     np.random.seed(seed)\n",
        "#     tf.random.set_seed(seed)\n",
        "#     return session\n",
        "def set_session(device_count= None, seed = 0):\n",
        "    gpu_options = tf.compat.v1.GPUOptions(allow_growth=True)\n",
        "\n",
        "    if device_count is not None:\n",
        "        # If device count is specified, set it in config\n",
        "        config = tf.compat.v1.ConfigProto(\n",
        "            gpu_options=gpu_options,\n",
        "            device_count=device_count\n",
        "        )\n",
        "    else:\n",
        "        config = tf.compat.v1.ConfigProto(gpu_options=gpu_options)\n",
        "\n",
        "    # Create and set TensorFlow session\n",
        "    session = tf.compat.v1.Session(config=config)\n",
        "    tf.compat.v1.keras.backend.set_session(session)\n",
        "\n",
        "    # Set random seeds\n",
        "    np.random.seed(seed)\n",
        "    tf.random.set_seed(seed)\n",
        "\n",
        "    return session\n",
        "\n",
        "def get_metrics(model, x, y, batch_size=1024):\n",
        "    yp = model.predict(x, batch_size=batch_size, verbose=1).flatten()\n",
        "    return {\n",
        "        \"rmse\": float(rmse(y, yp)),\n",
        "        \"mape\": float(mape(y, yp)),\n",
        "        \"mae\": float(mae(y, yp))\n",
        "    }"
      ]
    },
    {
      "cell_type": "markdown",
      "metadata": {
        "id": "Xim4s-ziVRNg"
      },
      "source": [
        "# Create a CoSTCo model"
      ]
    },
    {
      "cell_type": "code",
      "execution_count": 14,
      "metadata": {
        "id": "Ci6JG9m9VRNh"
      },
      "outputs": [],
      "source": [
        "def create_costco(shape, rank, nc):\n",
        "    inputs = [k.Input(shape=(1,), dtype=\"int32\") for i in range(len(shape))]\n",
        "    embeds = [\n",
        "        k.layers.Embedding(output_dim=rank, input_dim=shape[i])(inputs[i])\n",
        "        for i in range(len(shape))\n",
        "    ]\n",
        "    x = k.layers.Concatenate(axis=1)(embeds)\n",
        "    x = k.layers.Reshape(target_shape=(rank, len(shape), 1))(x)\n",
        "    x = k.layers.Conv2D(\n",
        "        nc,\n",
        "        kernel_size=(1, len(shape)),\n",
        "        activation=\"relu\",\n",
        "        padding=\"valid\"\n",
        "    )(x)\n",
        "    x = k.layers.Conv2D(\n",
        "        nc,\n",
        "        kernel_size=(rank, 1),\n",
        "        activation=\"relu\",\n",
        "        padding=\"valid\"\n",
        "    )(x)\n",
        "    x = k.layers.Flatten()(x)\n",
        "    x = k.layers.Dense(nc, activation=\"relu\")(x)\n",
        "    outputs = k.layers.Dense(1, activation=\"relu\")(x)\n",
        "    model = k.Model(inputs=inputs, outputs=outputs)\n",
        "\n",
        "    return model"
      ]
    },
    {
      "cell_type": "markdown",
      "metadata": {
        "id": "eQ_cVComVRNk"
      },
      "source": [
        "# Set hyper-parameters"
      ]
    },
    {
      "cell_type": "code",
      "execution_count": 15,
      "metadata": {
        "id": "ZsdsNRmEVRNl"
      },
      "outputs": [],
      "source": [
        "lr = 1e-4\n",
        "rank = 20\n",
        "nc = rank\n",
        "epochs = 50\n",
        "batch_size = 256\n",
        "\n",
        "seed = 3\n",
        "verbose = 1"
      ]
    },
    {
      "cell_type": "markdown",
      "metadata": {
        "id": "6lQi9W2OVRNr"
      },
      "source": [
        "# Train with early stopping"
      ]
    },
    {
      "cell_type": "code",
      "execution_count": 30,
      "metadata": {
        "colab": {
          "base_uri": "https://localhost:8080/"
        },
        "id": "tEvLEj_nTbhq",
        "outputId": "77322af5-3ec7-455f-f6cc-802cd6504970"
      },
      "outputs": [
        {
          "data": {
            "text/plain": [
              "<tensorflow.python.client.session.Session at 0x796267fc1b10>"
            ]
          },
          "execution_count": 30,
          "metadata": {},
          "output_type": "execute_result"
        }
      ],
      "source": [
        "set_session(device_count={\"GPU\": 0}, seed=seed)"
      ]
    },
    {
      "cell_type": "code",
      "execution_count": null,
      "metadata": {
        "colab": {
          "base_uri": "https://localhost:8080/"
        },
        "id": "JzRKa3PvVRNs",
        "outputId": "31b79be3-dfe2-4be7-c4f3-7be1e126a6e7"
      },
      "outputs": [],
      "source": [
        "set_session(device_count={\"GPU\": 0}, seed=seed)\n",
        "optim = k.optimizers.Adam(lr=lr)\n",
        "\n",
        "model = create_costco(shape, rank, nc)\n",
        "model.compile(optim, loss=[\"mse\"], metrics=[\"mae\", mape_keras])\n",
        "hists = model.fit(\n",
        "    x=transform(tr_idxs),\n",
        "    y=tr_vals,\n",
        "    verbose=verbose,\n",
        "    epochs=epochs,\n",
        "    batch_size=batch_size,\n",
        "    validation_split=0.1,\n",
        "    callbacks=[k.callbacks.EarlyStopping(\n",
        "        monitor=\"val_mean_absolute_error\",\n",
        "        patience=10,\n",
        "        restore_best_weights=True)],\n",
        ");"
      ]
    },
    {
      "cell_type": "markdown",
      "metadata": {
        "id": "_1bLRaV1VRNx"
      },
      "source": [
        "# Evaluation model prediction over the test set"
      ]
    },
    {
      "cell_type": "code",
      "execution_count": 37,
      "metadata": {
        "colab": {
          "base_uri": "https://localhost:8080/"
        },
        "id": "4Zi71CQmVRNx",
        "outputId": "be81df3d-3f9b-48af-b729-06fee1f932dc"
      },
      "outputs": [
        {
          "name": "stdout",
          "output_type": "stream",
          "text": [
            "83/83 [==============================] - 0s 2ms/step\n",
            "21/21 [==============================] - 0s 2ms/step\n"
          ]
        }
      ],
      "source": [
        "tr_info = get_metrics(model, transform(tr_idxs), tr_vals)\n",
        "te_info = get_metrics(model, transform(te_idxs), te_vals)"
      ]
    },
    {
      "cell_type": "code",
      "execution_count": 25,
      "metadata": {
        "colab": {
          "base_uri": "https://localhost:8080/"
        },
        "id": "_RT8lnIlXtsx",
        "outputId": "61436801-b6b2-4ebd-ea5f-5099d97dc69c"
      },
      "outputs": [
        {
          "name": "stdout",
          "output_type": "stream",
          "text": [
            "{'train': {'mae': 0.038172314558212746,\n",
            "           'mape': 22.542594515942145,\n",
            "           'rmse': 0.08550530942846674}}\n"
          ]
        }
      ],
      "source": [
        "pprint({'train': tr_info})"
      ]
    },
    {
      "cell_type": "code",
      "execution_count": 26,
      "metadata": {
        "colab": {
          "base_uri": "https://localhost:8080/"
        },
        "id": "eC9N9qpLV4Zr",
        "outputId": "b514cb13-7096-487b-b74b-1d75384a1925"
      },
      "outputs": [
        {
          "name": "stdout",
          "output_type": "stream",
          "text": [
            "{'test': {'mae': 0.09540652910370986,\n",
            "          'mape': 56.83021305364622,\n",
            "          'rmse': 0.19719356878624342}}\n"
          ]
        }
      ],
      "source": [
        "pprint({'test': te_info})"
      ]
    },
    {
      "cell_type": "code",
      "execution_count": 38,
      "metadata": {
        "colab": {
          "base_uri": "https://localhost:8080/"
        },
        "id": "MvLu8AtRV7vG",
        "outputId": "7fff183f-7bcd-46f4-acb5-dd7cec2e265d"
      },
      "outputs": [
        {
          "name": "stdout",
          "output_type": "stream",
          "text": [
            "{'train': {'mae': 0.037989188151755934,\n",
            "           'mape': 22.97265276326988,\n",
            "           'rmse': 0.08279467166149128}}\n"
          ]
        }
      ],
      "source": [
        "pprint({'train': tr_info})"
      ]
    },
    {
      "cell_type": "code",
      "execution_count": 39,
      "metadata": {
        "colab": {
          "base_uri": "https://localhost:8080/"
        },
        "id": "p8eXEdxPX91b",
        "outputId": "02c9cb91-4c75-418f-d0e3-24d05da9b860"
      },
      "outputs": [
        {
          "name": "stdout",
          "output_type": "stream",
          "text": [
            "{'test': {'mae': 0.09717790047385264,\n",
            "          'mape': 57.92255575443585,\n",
            "          'rmse': 0.19743315658205285}}\n"
          ]
        }
      ],
      "source": [
        "pprint({'test': te_info})"
      ]
    },
    {
      "cell_type": "code",
      "execution_count": null,
      "metadata": {},
      "outputs": [],
      "source": []
    }
  ],
  "metadata": {
    "accelerator": "GPU",
    "colab": {
      "gpuType": "T4",
      "name": "costco_demo.ipynb",
      "provenance": []
    },
    "kernelspec": {
      "display_name": "Python 2",
      "name": "python2"
    }
  },
  "nbformat": 4,
  "nbformat_minor": 0
}
