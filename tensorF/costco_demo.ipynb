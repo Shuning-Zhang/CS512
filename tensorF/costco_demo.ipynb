{
  "cells": [
    {
      "cell_type": "markdown",
      "metadata": {
        "id": "PJRhgXMRZJMa"
      },
      "source": [
        "# Imports"
      ]
    },
    {
      "cell_type": "code",
      "execution_count": 1,
      "metadata": {
        "id": "GMZej76fZPqZ"
      },
      "outputs": [],
      "source": [
        "import os\n",
        "import json\n",
        "# import urllib2\n",
        "# import zipfile\n",
        "from pprint import pprint\n",
        "\n",
        "import numpy as np\n",
        "import tensorflow as tf\n",
        "import keras as k"
      ]
    },
    {
      "cell_type": "code",
      "execution_count": 13,
      "metadata": {
        "colab": {
          "base_uri": "https://localhost:8080/"
        },
        "id": "XRmgLJIeMd1Q",
        "outputId": "17700f7f-219b-4ee2-c114-843885a16455"
      },
      "outputs": [
        {
          "name": "stdout",
          "output_type": "stream",
          "text": [
            "/bin/bash: line 1: conda: command not found\n"
          ]
        }
      ],
      "source": [
        "! conda install tensorflow==1.14.0\n"
      ]
    },
    {
      "cell_type": "markdown",
      "metadata": {
        "id": "jHGhMhifVRNo"
      },
      "source": [
        "# Load data"
      ]
    },
    {
      "cell_type": "code",
      "execution_count": 2,
      "metadata": {
        "id": "kueTfyY3Yht2"
      },
      "outputs": [],
      "source": [
        "data_folder = 'dataset/movie'\n",
        "\n"
      ]
    },
    {
      "cell_type": "code",
      "execution_count": 10,
      "metadata": {
        "id": "-Ilig1cCVRNp"
      },
      "outputs": [],
      "source": [
        "shape = np.loadtxt(os.path.join(data_folder, 'shape.txt')).astype(int)\n",
        "tr_idxs = np.loadtxt(os.path.join(data_folder, 'train_idx.txt')).astype(int)\n",
        "tr_vals = np.loadtxt(os.path.join(data_folder, 'train_v.txt'))\n",
        "te_idxs = np.loadtxt(os.path.join(data_folder, 'test_idx.txt')).astype(int)\n",
        "te_vals = np.loadtxt(os.path.join(data_folder, 'test_v.txt'))"
      ]
    },
    {
      "cell_type": "markdown",
      "metadata": {
        "id": "AB4BuZRbVRNY"
      },
      "source": [
        "# Define util functions"
      ]
    },
    {
      "cell_type": "code",
      "execution_count": 6,
      "metadata": {
        "id": "4MmoK-zQVRNZ"
      },
      "outputs": [],
      "source": [
        "def mape_keras(y_true, y_pred, threshold=0.1):\n",
        "    v = k.backend.clip(k.backend.abs(y_true), threshold, None)\n",
        "    diff = k.backend.abs((y_true - y_pred) / v)\n",
        "    return 100.0 * k.backend.mean(diff, axis=-1)\n",
        "\n",
        "def mae(y_true, y_pred):\n",
        "    return np.mean(np.abs(y_pred - y_true))\n",
        "\n",
        "def rmse(y_true, y_pred):\n",
        "    return np.sqrt(np.mean(np.square(y_pred - y_true)))\n",
        "\n",
        "def mape(y_true, y_pred, threshold=0.1):\n",
        "    v = np.clip(np.abs(y_true), threshold, None)\n",
        "    diff = np.abs((y_true - y_pred) / v)\n",
        "    return 100.0 * np.mean(diff, axis=-1).mean()\n",
        "\n",
        "def transform(idxs):\n",
        "    return [idxs[:, i] for i in range(idxs.shape[1])]\n",
        "\n",
        "# def set_session(device_count=None, seed=0):\n",
        "#     gpus = tf.config.list_physical_devices('GPU')\n",
        "#     for gpu in gpus:\n",
        "#       config = tf.config.experimental.set_memory_growth(gpu, True)\n",
        "#     print(gpu)\n",
        "#     session = tf.compat.v1.Session(config=config)\n",
        "#     tf.compat.v1.keras.backend.set_session(session)\n",
        "\n",
        "#     np.random.seed(seed)\n",
        "#     tf.random.set_seed(seed)\n",
        "#     return session\n",
        "def set_session(device_count= None, seed = 0):\n",
        "    gpu_options = tf.compat.v1.GPUOptions(allow_growth=True)\n",
        "\n",
        "    if device_count is not None:\n",
        "        # If device count is specified, set it in config\n",
        "        config = tf.compat.v1.ConfigProto(\n",
        "            gpu_options=gpu_options,\n",
        "            device_count=device_count\n",
        "        )\n",
        "    else:\n",
        "        config = tf.compat.v1.ConfigProto(gpu_options=gpu_options)\n",
        "\n",
        "    # Create and set TensorFlow session\n",
        "    session = tf.compat.v1.Session(config=config)\n",
        "    tf.compat.v1.keras.backend.set_session(session)\n",
        "\n",
        "    # Set random seeds\n",
        "    np.random.seed(seed)\n",
        "    tf.random.set_seed(seed)\n",
        "\n",
        "    return session\n",
        "\n",
        "def get_metrics(model, x, y, batch_size=1024):\n",
        "    yp = model.predict(x, batch_size=batch_size, verbose=1).flatten()\n",
        "    return {\n",
        "        \"rmse\": float(rmse(y, yp)),\n",
        "        \"mape\": float(mape(y, yp)),\n",
        "        \"mae\": float(mae(y, yp))\n",
        "    }"
      ]
    },
    {
      "cell_type": "markdown",
      "metadata": {
        "id": "Xim4s-ziVRNg"
      },
      "source": [
        "# Create a CoSTCo model"
      ]
    },
    {
      "cell_type": "code",
      "execution_count": 11,
      "metadata": {
        "id": "Ci6JG9m9VRNh"
      },
      "outputs": [],
      "source": [
        "def create_costco(shape, rank, nc):\n",
        "    inputs = [k.Input(shape=(1,), dtype=\"int32\") for i in range(len(shape))]\n",
        "    embeds = [\n",
        "        k.layers.Embedding(output_dim=rank, input_dim=shape[i])(inputs[i])\n",
        "        for i in range(len(shape))\n",
        "    ]\n",
        "    x = k.layers.Concatenate(axis=1)(embeds)\n",
        "    x = k.layers.Reshape(target_shape=(rank, len(shape), 1))(x)\n",
        "    x = k.layers.Conv2D(\n",
        "        nc,\n",
        "        kernel_size=(1, len(shape)),\n",
        "        activation=\"relu\",\n",
        "        padding=\"valid\"\n",
        "    )(x)\n",
        "    x = k.layers.Conv2D(\n",
        "        nc,\n",
        "        kernel_size=(rank, 1),\n",
        "        activation=\"relu\",\n",
        "        padding=\"valid\"\n",
        "    )(x)\n",
        "    x = k.layers.Flatten()(x)\n",
        "    x = k.layers.Dense(nc, activation=\"relu\")(x)\n",
        "    outputs = k.layers.Dense(1, activation=\"relu\")(x)\n",
        "    model = k.Model(inputs=inputs, outputs=outputs)\n",
        "\n",
        "    return model"
      ]
    },
    {
      "cell_type": "markdown",
      "metadata": {
        "id": "eQ_cVComVRNk"
      },
      "source": [
        "# Set hyper-parameters"
      ]
    },
    {
      "cell_type": "code",
      "execution_count": 12,
      "metadata": {
        "id": "ZsdsNRmEVRNl"
      },
      "outputs": [],
      "source": [
        "lr = 1e-4\n",
        "rank = 20\n",
        "nc = rank\n",
        "epochs = 50\n",
        "batch_size = 256\n",
        "\n",
        "seed = 3\n",
        "verbose = 1"
      ]
    },
    {
      "cell_type": "markdown",
      "metadata": {
        "id": "6lQi9W2OVRNr"
      },
      "source": [
        "# Train with early stopping"
      ]
    },
    {
      "cell_type": "code",
      "execution_count": 30,
      "metadata": {
        "colab": {
          "base_uri": "https://localhost:8080/"
        },
        "id": "tEvLEj_nTbhq",
        "outputId": "77322af5-3ec7-455f-f6cc-802cd6504970"
      },
      "outputs": [
        {
          "data": {
            "text/plain": [
              "<tensorflow.python.client.session.Session at 0x796267fc1b10>"
            ]
          },
          "execution_count": 30,
          "metadata": {},
          "output_type": "execute_result"
        }
      ],
      "source": [
        "set_session(device_count={\"GPU\": 0}, seed=seed)"
      ]
    },
    {
      "cell_type": "code",
      "execution_count": 13,
      "metadata": {
        "colab": {
          "base_uri": "https://localhost:8080/"
        },
        "id": "JzRKa3PvVRNs",
        "outputId": "31b79be3-dfe2-4be7-c4f3-7be1e126a6e7"
      },
      "outputs": [
        {
          "name": "stdout",
          "output_type": "stream",
          "text": [
            "Epoch 1/50\n"
          ]
        },
        {
          "name": "stderr",
          "output_type": "stream",
          "text": [
            "2024-04-26 15:53:47.321059: I tensorflow/core/common_runtime/executor.cc:1197] [/job:localhost/replica:0/task:0/device:CPU:0] (DEBUG INFO) Executor start aborting (this does not indicate an error and you can ignore this message): INVALID_ARGUMENT: indices[0,0] = 6057 is not in [0, 610)\n",
            "\t [[{{node model_1/embedding_4/embedding_lookup}}]]\n"
          ]
        },
        {
          "ename": "InvalidArgumentError",
          "evalue": "Graph execution error:\n\nDetected at node 'model_1/embedding_4/embedding_lookup' defined at (most recent call last):\n    File \"<frozen runpy>\", line 198, in _run_module_as_main\n    File \"<frozen runpy>\", line 88, in _run_code\n    File \"/opt/anaconda3/lib/python3.11/site-packages/ipykernel_launcher.py\", line 17, in <module>\n      app.launch_new_instance()\n    File \"/opt/anaconda3/lib/python3.11/site-packages/traitlets/config/application.py\", line 992, in launch_instance\n      app.start()\n    File \"/opt/anaconda3/lib/python3.11/site-packages/ipykernel/kernelapp.py\", line 701, in start\n      self.io_loop.start()\n    File \"/opt/anaconda3/lib/python3.11/site-packages/tornado/platform/asyncio.py\", line 195, in start\n      self.asyncio_loop.run_forever()\n    File \"/opt/anaconda3/lib/python3.11/asyncio/base_events.py\", line 607, in run_forever\n      self._run_once()\n    File \"/opt/anaconda3/lib/python3.11/asyncio/base_events.py\", line 1922, in _run_once\n      handle._run()\n    File \"/opt/anaconda3/lib/python3.11/asyncio/events.py\", line 80, in _run\n      self._context.run(self._callback, *self._args)\n    File \"/opt/anaconda3/lib/python3.11/site-packages/ipykernel/kernelbase.py\", line 534, in dispatch_queue\n      await self.process_one()\n    File \"/opt/anaconda3/lib/python3.11/site-packages/ipykernel/kernelbase.py\", line 523, in process_one\n      await dispatch(*args)\n    File \"/opt/anaconda3/lib/python3.11/site-packages/ipykernel/kernelbase.py\", line 429, in dispatch_shell\n      await result\n    File \"/opt/anaconda3/lib/python3.11/site-packages/ipykernel/kernelbase.py\", line 767, in execute_request\n      reply_content = await reply_content\n    File \"/opt/anaconda3/lib/python3.11/site-packages/ipykernel/ipkernel.py\", line 429, in do_execute\n      res = shell.run_cell(\n    File \"/opt/anaconda3/lib/python3.11/site-packages/ipykernel/zmqshell.py\", line 549, in run_cell\n      return super().run_cell(*args, **kwargs)\n    File \"/opt/anaconda3/lib/python3.11/site-packages/IPython/core/interactiveshell.py\", line 3051, in run_cell\n      result = self._run_cell(\n    File \"/opt/anaconda3/lib/python3.11/site-packages/IPython/core/interactiveshell.py\", line 3106, in _run_cell\n      result = runner(coro)\n    File \"/opt/anaconda3/lib/python3.11/site-packages/IPython/core/async_helpers.py\", line 129, in _pseudo_sync_runner\n      coro.send(None)\n    File \"/opt/anaconda3/lib/python3.11/site-packages/IPython/core/interactiveshell.py\", line 3311, in run_cell_async\n      has_raised = await self.run_ast_nodes(code_ast.body, cell_name,\n    File \"/opt/anaconda3/lib/python3.11/site-packages/IPython/core/interactiveshell.py\", line 3493, in run_ast_nodes\n      if await self.run_code(code, result, async_=asy):\n    File \"/opt/anaconda3/lib/python3.11/site-packages/IPython/core/interactiveshell.py\", line 3553, in run_code\n      exec(code_obj, self.user_global_ns, self.user_ns)\n    File \"/var/folders/7_/_4mflwx179j1n_z2w2d5l_440000gn/T/ipykernel_78076/3699365859.py\", line 6, in <module>\n      hists = model.fit(\n    File \"/opt/anaconda3/lib/python3.11/site-packages/keras/utils/traceback_utils.py\", line 65, in error_handler\n      return fn(*args, **kwargs)\n    File \"/opt/anaconda3/lib/python3.11/site-packages/keras/engine/training.py\", line 1685, in fit\n      tmp_logs = self.train_function(iterator)\n    File \"/opt/anaconda3/lib/python3.11/site-packages/keras/engine/training.py\", line 1284, in train_function\n      return step_function(self, iterator)\n    File \"/opt/anaconda3/lib/python3.11/site-packages/keras/engine/training.py\", line 1268, in step_function\n      outputs = model.distribute_strategy.run(run_step, args=(data,))\n    File \"/opt/anaconda3/lib/python3.11/site-packages/keras/engine/training.py\", line 1249, in run_step\n      outputs = model.train_step(data)\n    File \"/opt/anaconda3/lib/python3.11/site-packages/keras/engine/training.py\", line 1050, in train_step\n      y_pred = self(x, training=True)\n    File \"/opt/anaconda3/lib/python3.11/site-packages/keras/utils/traceback_utils.py\", line 65, in error_handler\n      return fn(*args, **kwargs)\n    File \"/opt/anaconda3/lib/python3.11/site-packages/keras/engine/training.py\", line 558, in __call__\n      return super().__call__(*args, **kwargs)\n    File \"/opt/anaconda3/lib/python3.11/site-packages/keras/utils/traceback_utils.py\", line 65, in error_handler\n      return fn(*args, **kwargs)\n    File \"/opt/anaconda3/lib/python3.11/site-packages/keras/engine/base_layer.py\", line 1145, in __call__\n      outputs = call_fn(inputs, *args, **kwargs)\n    File \"/opt/anaconda3/lib/python3.11/site-packages/keras/utils/traceback_utils.py\", line 96, in error_handler\n      return fn(*args, **kwargs)\n    File \"/opt/anaconda3/lib/python3.11/site-packages/keras/engine/functional.py\", line 512, in call\n      return self._run_internal_graph(inputs, training=training, mask=mask)\n    File \"/opt/anaconda3/lib/python3.11/site-packages/keras/engine/functional.py\", line 669, in _run_internal_graph\n      outputs = node.layer(*args, **kwargs)\n    File \"/opt/anaconda3/lib/python3.11/site-packages/keras/utils/traceback_utils.py\", line 65, in error_handler\n      return fn(*args, **kwargs)\n    File \"/opt/anaconda3/lib/python3.11/site-packages/keras/engine/base_layer.py\", line 1145, in __call__\n      outputs = call_fn(inputs, *args, **kwargs)\n    File \"/opt/anaconda3/lib/python3.11/site-packages/keras/utils/traceback_utils.py\", line 96, in error_handler\n      return fn(*args, **kwargs)\n    File \"/opt/anaconda3/lib/python3.11/site-packages/keras/layers/core/embedding.py\", line 272, in call\n      out = tf.nn.embedding_lookup(self.embeddings, inputs)\nNode: 'model_1/embedding_4/embedding_lookup'\nindices[0,0] = 6057 is not in [0, 610)\n\t [[{{node model_1/embedding_4/embedding_lookup}}]] [Op:__inference_train_function_2523]",
          "output_type": "error",
          "traceback": [
            "\u001b[0;31m---------------------------------------------------------------------------\u001b[0m",
            "\u001b[0;31mInvalidArgumentError\u001b[0m                      Traceback (most recent call last)",
            "Cell \u001b[0;32mIn[13], line 6\u001b[0m\n\u001b[1;32m      4\u001b[0m model \u001b[38;5;241m=\u001b[39m create_costco(shape, rank, nc)\n\u001b[1;32m      5\u001b[0m model\u001b[38;5;241m.\u001b[39mcompile(optim, loss\u001b[38;5;241m=\u001b[39m[\u001b[38;5;124m\"\u001b[39m\u001b[38;5;124mmse\u001b[39m\u001b[38;5;124m\"\u001b[39m], metrics\u001b[38;5;241m=\u001b[39m[\u001b[38;5;124m\"\u001b[39m\u001b[38;5;124mmae\u001b[39m\u001b[38;5;124m\"\u001b[39m, mape_keras])\n\u001b[0;32m----> 6\u001b[0m hists \u001b[38;5;241m=\u001b[39m model\u001b[38;5;241m.\u001b[39mfit(\n\u001b[1;32m      7\u001b[0m     x\u001b[38;5;241m=\u001b[39mtransform(tr_idxs),\n\u001b[1;32m      8\u001b[0m     y\u001b[38;5;241m=\u001b[39mtr_vals,\n\u001b[1;32m      9\u001b[0m     verbose\u001b[38;5;241m=\u001b[39mverbose,\n\u001b[1;32m     10\u001b[0m     epochs\u001b[38;5;241m=\u001b[39mepochs,\n\u001b[1;32m     11\u001b[0m     batch_size\u001b[38;5;241m=\u001b[39mbatch_size,\n\u001b[1;32m     12\u001b[0m     validation_split\u001b[38;5;241m=\u001b[39m\u001b[38;5;241m0.1\u001b[39m,\n\u001b[1;32m     13\u001b[0m     callbacks\u001b[38;5;241m=\u001b[39m[k\u001b[38;5;241m.\u001b[39mcallbacks\u001b[38;5;241m.\u001b[39mEarlyStopping(\n\u001b[1;32m     14\u001b[0m         monitor\u001b[38;5;241m=\u001b[39m\u001b[38;5;124m\"\u001b[39m\u001b[38;5;124mval_mean_absolute_error\u001b[39m\u001b[38;5;124m\"\u001b[39m,\n\u001b[1;32m     15\u001b[0m         patience\u001b[38;5;241m=\u001b[39m\u001b[38;5;241m10\u001b[39m,\n\u001b[1;32m     16\u001b[0m         restore_best_weights\u001b[38;5;241m=\u001b[39m\u001b[38;5;28;01mTrue\u001b[39;00m)],\n\u001b[1;32m     17\u001b[0m )\n",
            "File \u001b[0;32m/opt/anaconda3/lib/python3.11/site-packages/keras/utils/traceback_utils.py:70\u001b[0m, in \u001b[0;36mfilter_traceback.<locals>.error_handler\u001b[0;34m(*args, **kwargs)\u001b[0m\n\u001b[1;32m     67\u001b[0m     filtered_tb \u001b[38;5;241m=\u001b[39m _process_traceback_frames(e\u001b[38;5;241m.\u001b[39m__traceback__)\n\u001b[1;32m     68\u001b[0m     \u001b[38;5;66;03m# To get the full stack trace, call:\u001b[39;00m\n\u001b[1;32m     69\u001b[0m     \u001b[38;5;66;03m# `tf.debugging.disable_traceback_filtering()`\u001b[39;00m\n\u001b[0;32m---> 70\u001b[0m     \u001b[38;5;28;01mraise\u001b[39;00m e\u001b[38;5;241m.\u001b[39mwith_traceback(filtered_tb) \u001b[38;5;28;01mfrom\u001b[39;00m \u001b[38;5;28;01mNone\u001b[39;00m\n\u001b[1;32m     71\u001b[0m \u001b[38;5;28;01mfinally\u001b[39;00m:\n\u001b[1;32m     72\u001b[0m     \u001b[38;5;28;01mdel\u001b[39;00m filtered_tb\n",
            "File \u001b[0;32m/opt/anaconda3/lib/python3.11/site-packages/tensorflow/python/eager/execute.py:52\u001b[0m, in \u001b[0;36mquick_execute\u001b[0;34m(op_name, num_outputs, inputs, attrs, ctx, name)\u001b[0m\n\u001b[1;32m     50\u001b[0m \u001b[38;5;28;01mtry\u001b[39;00m:\n\u001b[1;32m     51\u001b[0m   ctx\u001b[38;5;241m.\u001b[39mensure_initialized()\n\u001b[0;32m---> 52\u001b[0m   tensors \u001b[38;5;241m=\u001b[39m pywrap_tfe\u001b[38;5;241m.\u001b[39mTFE_Py_Execute(ctx\u001b[38;5;241m.\u001b[39m_handle, device_name, op_name,\n\u001b[1;32m     53\u001b[0m                                       inputs, attrs, num_outputs)\n\u001b[1;32m     54\u001b[0m \u001b[38;5;28;01mexcept\u001b[39;00m core\u001b[38;5;241m.\u001b[39m_NotOkStatusException \u001b[38;5;28;01mas\u001b[39;00m e:\n\u001b[1;32m     55\u001b[0m   \u001b[38;5;28;01mif\u001b[39;00m name \u001b[38;5;129;01mis\u001b[39;00m \u001b[38;5;129;01mnot\u001b[39;00m \u001b[38;5;28;01mNone\u001b[39;00m:\n",
            "\u001b[0;31mInvalidArgumentError\u001b[0m: Graph execution error:\n\nDetected at node 'model_1/embedding_4/embedding_lookup' defined at (most recent call last):\n    File \"<frozen runpy>\", line 198, in _run_module_as_main\n    File \"<frozen runpy>\", line 88, in _run_code\n    File \"/opt/anaconda3/lib/python3.11/site-packages/ipykernel_launcher.py\", line 17, in <module>\n      app.launch_new_instance()\n    File \"/opt/anaconda3/lib/python3.11/site-packages/traitlets/config/application.py\", line 992, in launch_instance\n      app.start()\n    File \"/opt/anaconda3/lib/python3.11/site-packages/ipykernel/kernelapp.py\", line 701, in start\n      self.io_loop.start()\n    File \"/opt/anaconda3/lib/python3.11/site-packages/tornado/platform/asyncio.py\", line 195, in start\n      self.asyncio_loop.run_forever()\n    File \"/opt/anaconda3/lib/python3.11/asyncio/base_events.py\", line 607, in run_forever\n      self._run_once()\n    File \"/opt/anaconda3/lib/python3.11/asyncio/base_events.py\", line 1922, in _run_once\n      handle._run()\n    File \"/opt/anaconda3/lib/python3.11/asyncio/events.py\", line 80, in _run\n      self._context.run(self._callback, *self._args)\n    File \"/opt/anaconda3/lib/python3.11/site-packages/ipykernel/kernelbase.py\", line 534, in dispatch_queue\n      await self.process_one()\n    File \"/opt/anaconda3/lib/python3.11/site-packages/ipykernel/kernelbase.py\", line 523, in process_one\n      await dispatch(*args)\n    File \"/opt/anaconda3/lib/python3.11/site-packages/ipykernel/kernelbase.py\", line 429, in dispatch_shell\n      await result\n    File \"/opt/anaconda3/lib/python3.11/site-packages/ipykernel/kernelbase.py\", line 767, in execute_request\n      reply_content = await reply_content\n    File \"/opt/anaconda3/lib/python3.11/site-packages/ipykernel/ipkernel.py\", line 429, in do_execute\n      res = shell.run_cell(\n    File \"/opt/anaconda3/lib/python3.11/site-packages/ipykernel/zmqshell.py\", line 549, in run_cell\n      return super().run_cell(*args, **kwargs)\n    File \"/opt/anaconda3/lib/python3.11/site-packages/IPython/core/interactiveshell.py\", line 3051, in run_cell\n      result = self._run_cell(\n    File \"/opt/anaconda3/lib/python3.11/site-packages/IPython/core/interactiveshell.py\", line 3106, in _run_cell\n      result = runner(coro)\n    File \"/opt/anaconda3/lib/python3.11/site-packages/IPython/core/async_helpers.py\", line 129, in _pseudo_sync_runner\n      coro.send(None)\n    File \"/opt/anaconda3/lib/python3.11/site-packages/IPython/core/interactiveshell.py\", line 3311, in run_cell_async\n      has_raised = await self.run_ast_nodes(code_ast.body, cell_name,\n    File \"/opt/anaconda3/lib/python3.11/site-packages/IPython/core/interactiveshell.py\", line 3493, in run_ast_nodes\n      if await self.run_code(code, result, async_=asy):\n    File \"/opt/anaconda3/lib/python3.11/site-packages/IPython/core/interactiveshell.py\", line 3553, in run_code\n      exec(code_obj, self.user_global_ns, self.user_ns)\n    File \"/var/folders/7_/_4mflwx179j1n_z2w2d5l_440000gn/T/ipykernel_78076/3699365859.py\", line 6, in <module>\n      hists = model.fit(\n    File \"/opt/anaconda3/lib/python3.11/site-packages/keras/utils/traceback_utils.py\", line 65, in error_handler\n      return fn(*args, **kwargs)\n    File \"/opt/anaconda3/lib/python3.11/site-packages/keras/engine/training.py\", line 1685, in fit\n      tmp_logs = self.train_function(iterator)\n    File \"/opt/anaconda3/lib/python3.11/site-packages/keras/engine/training.py\", line 1284, in train_function\n      return step_function(self, iterator)\n    File \"/opt/anaconda3/lib/python3.11/site-packages/keras/engine/training.py\", line 1268, in step_function\n      outputs = model.distribute_strategy.run(run_step, args=(data,))\n    File \"/opt/anaconda3/lib/python3.11/site-packages/keras/engine/training.py\", line 1249, in run_step\n      outputs = model.train_step(data)\n    File \"/opt/anaconda3/lib/python3.11/site-packages/keras/engine/training.py\", line 1050, in train_step\n      y_pred = self(x, training=True)\n    File \"/opt/anaconda3/lib/python3.11/site-packages/keras/utils/traceback_utils.py\", line 65, in error_handler\n      return fn(*args, **kwargs)\n    File \"/opt/anaconda3/lib/python3.11/site-packages/keras/engine/training.py\", line 558, in __call__\n      return super().__call__(*args, **kwargs)\n    File \"/opt/anaconda3/lib/python3.11/site-packages/keras/utils/traceback_utils.py\", line 65, in error_handler\n      return fn(*args, **kwargs)\n    File \"/opt/anaconda3/lib/python3.11/site-packages/keras/engine/base_layer.py\", line 1145, in __call__\n      outputs = call_fn(inputs, *args, **kwargs)\n    File \"/opt/anaconda3/lib/python3.11/site-packages/keras/utils/traceback_utils.py\", line 96, in error_handler\n      return fn(*args, **kwargs)\n    File \"/opt/anaconda3/lib/python3.11/site-packages/keras/engine/functional.py\", line 512, in call\n      return self._run_internal_graph(inputs, training=training, mask=mask)\n    File \"/opt/anaconda3/lib/python3.11/site-packages/keras/engine/functional.py\", line 669, in _run_internal_graph\n      outputs = node.layer(*args, **kwargs)\n    File \"/opt/anaconda3/lib/python3.11/site-packages/keras/utils/traceback_utils.py\", line 65, in error_handler\n      return fn(*args, **kwargs)\n    File \"/opt/anaconda3/lib/python3.11/site-packages/keras/engine/base_layer.py\", line 1145, in __call__\n      outputs = call_fn(inputs, *args, **kwargs)\n    File \"/opt/anaconda3/lib/python3.11/site-packages/keras/utils/traceback_utils.py\", line 96, in error_handler\n      return fn(*args, **kwargs)\n    File \"/opt/anaconda3/lib/python3.11/site-packages/keras/layers/core/embedding.py\", line 272, in call\n      out = tf.nn.embedding_lookup(self.embeddings, inputs)\nNode: 'model_1/embedding_4/embedding_lookup'\nindices[0,0] = 6057 is not in [0, 610)\n\t [[{{node model_1/embedding_4/embedding_lookup}}]] [Op:__inference_train_function_2523]"
          ]
        }
      ],
      "source": [
        "set_session(device_count={\"GPU\": 0}, seed=seed)\n",
        "optim = k.optimizers.Adam(lr=lr)\n",
        "\n",
        "model = create_costco(shape, rank, nc)\n",
        "model.compile(optim, loss=[\"mse\"], metrics=[\"mae\", mape_keras])\n",
        "hists = model.fit(\n",
        "    x=transform(tr_idxs),\n",
        "    y=tr_vals,\n",
        "    verbose=verbose,\n",
        "    epochs=epochs,\n",
        "    batch_size=batch_size,\n",
        "    validation_split=0.1,\n",
        "    callbacks=[k.callbacks.EarlyStopping(\n",
        "        monitor=\"val_mean_absolute_error\",\n",
        "        patience=10,\n",
        "        restore_best_weights=True)],\n",
        ");"
      ]
    },
    {
      "cell_type": "markdown",
      "metadata": {
        "id": "_1bLRaV1VRNx"
      },
      "source": [
        "# Evaluation model prediction over the test set"
      ]
    },
    {
      "cell_type": "code",
      "execution_count": 37,
      "metadata": {
        "colab": {
          "base_uri": "https://localhost:8080/"
        },
        "id": "4Zi71CQmVRNx",
        "outputId": "be81df3d-3f9b-48af-b729-06fee1f932dc"
      },
      "outputs": [
        {
          "name": "stdout",
          "output_type": "stream",
          "text": [
            "83/83 [==============================] - 0s 2ms/step\n",
            "21/21 [==============================] - 0s 2ms/step\n"
          ]
        }
      ],
      "source": [
        "tr_info = get_metrics(model, transform(tr_idxs), tr_vals)\n",
        "te_info = get_metrics(model, transform(te_idxs), te_vals)"
      ]
    },
    {
      "cell_type": "code",
      "execution_count": 25,
      "metadata": {
        "colab": {
          "base_uri": "https://localhost:8080/"
        },
        "id": "_RT8lnIlXtsx",
        "outputId": "61436801-b6b2-4ebd-ea5f-5099d97dc69c"
      },
      "outputs": [
        {
          "name": "stdout",
          "output_type": "stream",
          "text": [
            "{'train': {'mae': 0.038172314558212746,\n",
            "           'mape': 22.542594515942145,\n",
            "           'rmse': 0.08550530942846674}}\n"
          ]
        }
      ],
      "source": [
        "pprint({'train': tr_info})"
      ]
    },
    {
      "cell_type": "code",
      "execution_count": 26,
      "metadata": {
        "colab": {
          "base_uri": "https://localhost:8080/"
        },
        "id": "eC9N9qpLV4Zr",
        "outputId": "b514cb13-7096-487b-b74b-1d75384a1925"
      },
      "outputs": [
        {
          "name": "stdout",
          "output_type": "stream",
          "text": [
            "{'test': {'mae': 0.09540652910370986,\n",
            "          'mape': 56.83021305364622,\n",
            "          'rmse': 0.19719356878624342}}\n"
          ]
        }
      ],
      "source": [
        "pprint({'test': te_info})"
      ]
    },
    {
      "cell_type": "code",
      "execution_count": 38,
      "metadata": {
        "colab": {
          "base_uri": "https://localhost:8080/"
        },
        "id": "MvLu8AtRV7vG",
        "outputId": "7fff183f-7bcd-46f4-acb5-dd7cec2e265d"
      },
      "outputs": [
        {
          "name": "stdout",
          "output_type": "stream",
          "text": [
            "{'train': {'mae': 0.037989188151755934,\n",
            "           'mape': 22.97265276326988,\n",
            "           'rmse': 0.08279467166149128}}\n"
          ]
        }
      ],
      "source": [
        "pprint({'train': tr_info})"
      ]
    },
    {
      "cell_type": "code",
      "execution_count": 39,
      "metadata": {
        "colab": {
          "base_uri": "https://localhost:8080/"
        },
        "id": "p8eXEdxPX91b",
        "outputId": "02c9cb91-4c75-418f-d0e3-24d05da9b860"
      },
      "outputs": [
        {
          "name": "stdout",
          "output_type": "stream",
          "text": [
            "{'test': {'mae': 0.09717790047385264,\n",
            "          'mape': 57.92255575443585,\n",
            "          'rmse': 0.19743315658205285}}\n"
          ]
        }
      ],
      "source": [
        "pprint({'test': te_info})"
      ]
    },
    {
      "cell_type": "code",
      "execution_count": null,
      "metadata": {},
      "outputs": [],
      "source": []
    }
  ],
  "metadata": {
    "accelerator": "GPU",
    "colab": {
      "gpuType": "T4",
      "name": "costco_demo.ipynb",
      "provenance": []
    },
    "kernelspec": {
      "display_name": "base",
      "language": "python",
      "name": "python3"
    },
    "language_info": {
      "codemirror_mode": {
        "name": "ipython",
        "version": 3
      },
      "file_extension": ".py",
      "mimetype": "text/x-python",
      "name": "python",
      "nbconvert_exporter": "python",
      "pygments_lexer": "ipython3",
      "version": "3.11.5"
    }
  },
  "nbformat": 4,
  "nbformat_minor": 0
}
