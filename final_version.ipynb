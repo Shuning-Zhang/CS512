{
  "cells": [
    {
      "cell_type": "code",
      "source": [],
      "metadata": {
        "id": "eReGMv89zXbf"
      },
      "execution_count": null,
      "outputs": []
    },
    {
      "cell_type": "code",
      "source": [
        "from google.colab import drive\n",
        "drive.mount('/content/drive')"
      ],
      "metadata": {
        "colab": {
          "base_uri": "https://localhost:8080/"
        },
        "id": "OvDcKC0ezXw3",
        "outputId": "e6e6598b-6585-4f9c-df90-ee095d95f1b8"
      },
      "execution_count": null,
      "outputs": [
        {
          "output_type": "stream",
          "name": "stdout",
          "text": [
            "Drive already mounted at /content/drive; to attempt to forcibly remount, call drive.mount(\"/content/drive\", force_remount=True).\n"
          ]
        }
      ]
    },
    {
      "cell_type": "code",
      "source": [
        "/content/utils.py"
      ],
      "metadata": {
        "id": "2Hm41Iomz_dt"
      },
      "execution_count": null,
      "outputs": []
    },
    {
      "cell_type": "code",
      "execution_count": null,
      "metadata": {
        "id": "lXByUbSxy9x8"
      },
      "outputs": [],
      "source": [
        "import pandas as pd\n",
        "import numpy as np\n",
        "import os\n",
        "import sys\n",
        "# from algorithms.tensor_coclust_tau import CoClust\n",
        "# from sklearn.metrics import adjusted_rand_score as ari\n",
        "# from sklearn.metrics import normalized_mutual_info_score as nmi\n",
        "# from sklearn.metrics import accuracy_score\n",
        "# from utils import CreateOutputFile, CreateLogger\n"
      ]
    },
    {
      "cell_type": "code",
      "execution_count": null,
      "metadata": {
        "id": "Aw_un9Sxy9yG"
      },
      "outputs": [],
      "source": [
        "predicted_ratings = pd.read_csv('/content/costco_result_20.csv',header=None)"
      ]
    },
    {
      "cell_type": "code",
      "execution_count": null,
      "metadata": {
        "id": "-zC6iQkZy9yH"
      },
      "outputs": [],
      "source": [
        "# n, m, l = shape\n",
        "# T = np.zeros((n, m, l))\n"
      ]
    },
    {
      "cell_type": "code",
      "execution_count": null,
      "metadata": {
        "id": "dFn5MoxYy9yH"
      },
      "outputs": [],
      "source": [
        "final = np.loadtxt(\"/content/movie_data.txt\").astype(int)"
      ]
    },
    {
      "cell_type": "code",
      "execution_count": null,
      "metadata": {
        "id": "vXNl_QTjy9yH"
      },
      "outputs": [],
      "source": [
        "for row in final:\n",
        "    T[row[0] - 1, row[1] - 1, row[2]] = row[3]"
      ]
    },
    {
      "cell_type": "code",
      "execution_count": null,
      "metadata": {
        "id": "uRF0jS4xy9yH"
      },
      "outputs": [],
      "source": [
        "y = predicted_ratings[0].to_numpy()"
      ]
    },
    {
      "cell_type": "code",
      "execution_count": null,
      "metadata": {
        "colab": {
          "base_uri": "https://localhost:8080/"
        },
        "id": "JvvTRT8dy9yI",
        "outputId": "c23bed12-27e5-4d88-e668-c070f22bb696"
      },
      "outputs": [
        {
          "output_type": "execute_result",
          "data": {
            "text/plain": [
              "(100, 3)"
            ]
          },
          "metadata": {},
          "execution_count": 5
        }
      ],
      "source": [
        "final_cut = final[:100]\n",
        "\n",
        "num_rows_to_select = 100\n",
        "\n",
        "# Generate random indices\n",
        "random_indices = np.random.choice(final.shape[0], num_rows_to_select, replace=False)\n",
        "\n",
        "# Select the rows using the randomly generated indices\n",
        "final_cut = final[random_indices]\n",
        "\n",
        "final_cut.shape"
      ]
    },
    {
      "cell_type": "code",
      "execution_count": null,
      "metadata": {
        "id": "-3ePF-Why9yI"
      },
      "outputs": [],
      "source": [
        "predicted_ratings_cut = y[random_indices]"
      ]
    },
    {
      "cell_type": "code",
      "execution_count": null,
      "metadata": {
        "id": "PZBkyI-yy9yI"
      },
      "outputs": [],
      "source": [
        "n_cut, m_cut, l_cut = 0, 0, 0\n",
        "for i in final_cut:\n",
        "    n_cut = max(n_cut, i[0])\n",
        "    m_cut = max(m_cut, i[1])\n",
        "    l_cut = max(l_cut, i[2])\n"
      ]
    },
    {
      "cell_type": "code",
      "execution_count": null,
      "metadata": {
        "id": "Rcmr-OCey9yJ"
      },
      "outputs": [],
      "source": [
        "T_cut = np.zeros((n_cut, m_cut, l_cut + 1))"
      ]
    },
    {
      "cell_type": "code",
      "execution_count": null,
      "metadata": {
        "colab": {
          "base_uri": "https://localhost:8080/"
        },
        "id": "KGMikoyAy9yJ",
        "outputId": "19971694-31e1-47d7-ecb3-dc44d9f127fc"
      },
      "outputs": [
        {
          "output_type": "execute_result",
          "data": {
            "text/plain": [
              "(517, 8441, 10)"
            ]
          },
          "metadata": {},
          "execution_count": 9
        }
      ],
      "source": [
        "T_cut.shape"
      ]
    },
    {
      "cell_type": "code",
      "execution_count": null,
      "metadata": {
        "id": "BwDsFKviy9yJ"
      },
      "outputs": [],
      "source": [
        "\n",
        "for row in final_cut:\n",
        "    T_cut[row[0] - 1, row[1] - 1, row[2]] = 1"
      ]
    },
    {
      "cell_type": "markdown",
      "metadata": {
        "id": "YjKVUjNHy9yJ"
      },
      "source": [
        "CoClust"
      ]
    },
    {
      "cell_type": "code",
      "execution_count": null,
      "metadata": {
        "id": "5Gh0khHzy9yJ"
      },
      "outputs": [],
      "source": [
        "alg = 'ALT2'\n",
        "output_path = f\"./output/MovieLens/\"\n",
        "directory = os.path.dirname(output_path)\n",
        "if not os.path.exists(directory):\n",
        "    os.makedirs(directory)\n",
        "\n",
        "model = CoClust(n_iterations = 50, optimization_strategy = alg, path = output_path)\n",
        "model.fit(T_cut)\n",
        "\n",
        "tau = model.final_tau_\n",
        "n = nmi(model._assignment[1], predicted_ratings_cut, average_method='arithmetic')\n",
        "a = ari(model._assignment[1], predicted_ratings_cut)\n",
        "acc = accuracy_score(model._assignment[1], predicted_ratings_cut)\n",
        "\n",
        "print(acc)"
      ]
    },
    {
      "cell_type": "markdown",
      "source": [
        "Tucker"
      ],
      "metadata": {
        "id": "xzJyPGKDKFQu"
      }
    },
    {
      "cell_type": "code",
      "source": [
        "final = np.loadtxt(\"/content/join_movie_data.csv\").astype(int)"
      ],
      "metadata": {
        "id": "93_j0xSUKNe8"
      },
      "execution_count": null,
      "outputs": []
    },
    {
      "cell_type": "code",
      "source": [
        "final_cut = final[:100]\n",
        "\n",
        "num_rows_to_select = 100\n",
        "\n",
        "# Generate random indices\n",
        "random_indices = np.random.choice(final.shape[0]//10, num_rows_to_select, replace=False)\n",
        "\n",
        "# Select the rows using the randomly generated indices\n",
        "final_cut = final[random_indices]\n",
        "\n",
        "final_cut.shape"
      ],
      "metadata": {
        "colab": {
          "base_uri": "https://localhost:8080/"
        },
        "id": "Dac2rnw4KIY4",
        "outputId": "d95c3be1-6e1f-4f09-be99-b4c901599859"
      },
      "execution_count": null,
      "outputs": [
        {
          "output_type": "execute_result",
          "data": {
            "text/plain": [
              "(100, 4)"
            ]
          },
          "metadata": {},
          "execution_count": 32
        }
      ]
    },
    {
      "cell_type": "code",
      "source": [
        "n_cut, m_cut, l_cut = 0, 0, 0\n",
        "for i in final:\n",
        "    n_cut = max(int(n_cut), i[0])\n",
        "    m_cut = max(int(m_cut), i[1])\n",
        "    l_cut = max(int(l_cut), i[2])\n"
      ],
      "metadata": {
        "id": "xChqStBTKegT"
      },
      "execution_count": null,
      "outputs": []
    },
    {
      "cell_type": "code",
      "source": [
        "T_cut = np.zeros((n_cut, m_cut, l_cut + 1))"
      ],
      "metadata": {
        "id": "iQ7Ws3BeKjzG"
      },
      "execution_count": null,
      "outputs": []
    },
    {
      "cell_type": "code",
      "source": [
        "T_cut.shape"
      ],
      "metadata": {
        "colab": {
          "base_uri": "https://localhost:8080/"
        },
        "id": "C8LjOD_oKq96",
        "outputId": "1e623dfa-3a9c-4d07-e83c-b4a093f473e4"
      },
      "execution_count": null,
      "outputs": [
        {
          "output_type": "execute_result",
          "data": {
            "text/plain": [
              "(610, 9052, 10)"
            ]
          },
          "metadata": {},
          "execution_count": 7
        }
      ]
    },
    {
      "cell_type": "code",
      "source": [
        "for row in final:\n",
        "    T_cut[row[0] - 1, row[1] - 1, row[2]] = row[3]"
      ],
      "metadata": {
        "id": "OH9ODCSQKtJC"
      },
      "execution_count": null,
      "outputs": []
    },
    {
      "cell_type": "code",
      "source": [
        "!pip install tensorly"
      ],
      "metadata": {
        "colab": {
          "base_uri": "https://localhost:8080/"
        },
        "id": "MUSlSvkDV2pf",
        "outputId": "65c7d162-4b55-4e93-a893-812902fb5697"
      },
      "execution_count": null,
      "outputs": [
        {
          "output_type": "stream",
          "name": "stdout",
          "text": [
            "Collecting tensorly\n",
            "  Downloading tensorly-0.8.1-py3-none-any.whl (229 kB)\n",
            "\u001b[?25l     \u001b[90m━━━━━━━━━━━━━━━━━━━━━━━━━━━━━━━━━━━━━━━━\u001b[0m \u001b[32m0.0/229.7 kB\u001b[0m \u001b[31m?\u001b[0m eta \u001b[36m-:--:--\u001b[0m\r\u001b[2K     \u001b[91m━━━━━━━━━━━━━━━━━━━━━━━━━━━━━━━━━━━━━━━\u001b[0m\u001b[90m╺\u001b[0m \u001b[32m225.3/229.7 kB\u001b[0m \u001b[31m6.7 MB/s\u001b[0m eta \u001b[36m0:00:01\u001b[0m\r\u001b[2K     \u001b[90m━━━━━━━━━━━━━━━━━━━━━━━━━━━━━━━━━━━━━━━━\u001b[0m \u001b[32m229.7/229.7 kB\u001b[0m \u001b[31m5.4 MB/s\u001b[0m eta \u001b[36m0:00:00\u001b[0m\n",
            "\u001b[?25hRequirement already satisfied: numpy in /usr/local/lib/python3.10/dist-packages (from tensorly) (1.25.2)\n",
            "Requirement already satisfied: scipy in /usr/local/lib/python3.10/dist-packages (from tensorly) (1.11.4)\n",
            "Installing collected packages: tensorly\n",
            "Successfully installed tensorly-0.8.1\n"
          ]
        }
      ]
    },
    {
      "cell_type": "code",
      "source": [
        "import tensorly as tl\n",
        "from tensorly.decomposition import tucker\n",
        "\n",
        "data = tl.tensor(T_cut)\n",
        "rank = [4, 5, 2]  # Different ranks for each mode\n",
        "\n",
        "core, factors = tucker(data, rank=rank)"
      ],
      "metadata": {
        "id": "ZLx7nTCTKEhv"
      },
      "execution_count": null,
      "outputs": []
    },
    {
      "cell_type": "code",
      "source": [
        "reconstructed_data = tl.tucker_to_tensor((core, factors))"
      ],
      "metadata": {
        "id": "qMX_TX08Loik"
      },
      "execution_count": null,
      "outputs": []
    },
    {
      "cell_type": "code",
      "source": [
        "from tensorly import norm\n",
        "\n",
        "error = 1 - norm(data - reconstructed_data) / norm(data)\n",
        "print(error)"
      ],
      "metadata": {
        "colab": {
          "base_uri": "https://localhost:8080/"
        },
        "id": "G-uoWi1_LSuV",
        "outputId": "6462d54b-842d-44df-c4cf-1a7cdcce32ce"
      },
      "execution_count": null,
      "outputs": [
        {
          "output_type": "stream",
          "name": "stdout",
          "text": [
            "0.07545024633559294\n"
          ]
        }
      ]
    },
    {
      "cell_type": "code",
      "source": [
        "rank_ranges = {\n",
        "    'mode1': range(6, 11),  # e.g., range from 1 to 5 for the first mode\n",
        "    'mode2': range(6, 11),\n",
        "    'mode3': range(6, 11)\n",
        "}\n",
        "\n",
        "# Record the errors for each combination of ranks\n",
        "# errors = []\n",
        "# labels = []\n",
        "# variance = []\n",
        "\n",
        "for r1 in rank_ranges['mode1']:\n",
        "    for r2 in rank_ranges['mode2']:\n",
        "        for r3 in rank_ranges['mode3']:\n",
        "            rank = [r1, r2, r3]\n",
        "            if rank not in seen:\n",
        "              print(rank)\n",
        "              seen.append(rank)\n",
        "              core, factors = tucker(data, rank=rank)\n",
        "              reconstructed = tl.tucker_to_tensor((core, factors))\n",
        "              reconstruction_error = norm(data - reconstructed)\n",
        "              explained_variance = 1 - (norm(data - reconstructed) / norm(data))\n",
        "              variance.append(explained_variance)\n",
        "              errors.append(reconstruction_error)\n",
        "              labels.append(f\"{r1}-{r2}-{r3}\")\n",
        "\n",
        "import matplotlib.pyplot as plt\n",
        "# Plotting the results\n",
        "plt.figure(figsize=(10, 5))\n",
        "plt.plot(labels, errors, marker='o')\n",
        "plt.plot(labels, variance, marker='x')\n",
        "plt.xticks(rotation=90)\n",
        "plt.xlabel('Ranks per mode (mode1-mode2-mode3)')\n",
        "plt.ylabel('Reconstruction Error')\n",
        "plt.title('Tucker Decomposition Errors by Rank Configuration')\n",
        "plt.tight_layout()\n",
        "plt.show()"
      ],
      "metadata": {
        "id": "pE9CR0osLT_Z",
        "colab": {
          "base_uri": "https://localhost:8080/",
          "height": 1000
        },
        "outputId": "2b3095f3-0a78-418b-dbbf-12b87d0405a0"
      },
      "execution_count": null,
      "outputs": [
        {
          "output_type": "stream",
          "name": "stdout",
          "text": [
            "[6, 7, 10]\n",
            "[6, 8, 10]\n",
            "[6, 9, 10]\n",
            "[6, 10, 6]\n",
            "[6, 10, 7]\n",
            "[6, 10, 8]\n",
            "[6, 10, 9]\n",
            "[6, 10, 10]\n",
            "[7, 6, 10]\n",
            "[7, 7, 10]\n",
            "[7, 8, 10]\n",
            "[7, 9, 10]\n",
            "[7, 10, 6]\n",
            "[7, 10, 7]\n",
            "[7, 10, 8]\n",
            "[7, 10, 9]\n",
            "[7, 10, 10]\n",
            "[8, 6, 10]\n",
            "[8, 7, 10]\n",
            "[8, 8, 10]\n",
            "[8, 9, 10]\n",
            "[8, 10, 6]\n",
            "[8, 10, 7]\n",
            "[8, 10, 8]\n",
            "[8, 10, 9]\n",
            "[8, 10, 10]\n",
            "[9, 6, 10]\n",
            "[9, 7, 10]\n",
            "[9, 8, 10]\n",
            "[9, 9, 10]\n",
            "[9, 10, 6]\n",
            "[9, 10, 7]\n",
            "[9, 10, 8]\n",
            "[9, 10, 9]\n",
            "[9, 10, 10]\n",
            "[10, 6, 6]\n",
            "[10, 6, 7]\n",
            "[10, 6, 8]\n",
            "[10, 6, 9]\n",
            "[10, 6, 10]\n",
            "[10, 7, 6]\n",
            "[10, 7, 7]\n",
            "[10, 7, 8]\n",
            "[10, 7, 9]\n",
            "[10, 7, 10]\n",
            "[10, 8, 6]\n",
            "[10, 8, 7]\n",
            "[10, 8, 8]\n",
            "[10, 8, 9]\n",
            "[10, 8, 10]\n",
            "[10, 9, 6]\n",
            "[10, 9, 7]\n",
            "[10, 9, 8]\n",
            "[10, 9, 9]\n",
            "[10, 9, 10]\n",
            "[10, 10, 6]\n",
            "[10, 10, 7]\n",
            "[10, 10, 8]\n",
            "[10, 10, 9]\n",
            "[10, 10, 10]\n"
          ]
        },
        {
          "output_type": "display_data",
          "data": {
            "text/plain": [
              "<Figure size 1000x500 with 1 Axes>"
            ],
            "image/png": "[encoded data removed]"
          },
          "metadata": {}
        }
      ]
    },
    {
      "cell_type": "code",
      "source": [
        "combine = []\n",
        "combine.append(labels)\n",
        "combine.append(errors)\n",
        "combine.append(variance)"
      ],
      "metadata": {
        "id": "uF3T__fCmH9H"
      },
      "execution_count": null,
      "outputs": []
    },
    {
      "cell_type": "code",
      "source": [
        "import csv\n",
        "\n",
        "# Specify the file name\n",
        "filename = \"data.csv\"\n",
        "\n",
        "with open(filename, mode='w', newline='') as file:\n",
        "    writer = csv.writer(file)\n",
        "\n",
        "    # Write each row of the 2D list to the CSV\n",
        "    for row in combine:\n",
        "        writer.writerow(row)"
      ],
      "metadata": {
        "id": "CATg7Bs5tbFe"
      },
      "execution_count": null,
      "outputs": []
    },
    {
      "cell_type": "code",
      "source": [
        "print(min(errors))\n",
        "print(min(variance))"
      ],
      "metadata": {
        "colab": {
          "base_uri": "https://localhost:8080/"
        },
        "id": "dxvLeE3_RIEv",
        "outputId": "b50ca4ff-917f-44fb-cd6d-1dfb9d8fd396"
      },
      "execution_count": null,
      "outputs": [
        {
          "output_type": "stream",
          "name": "stdout",
          "text": [
            "1335.6336887455557\n",
            "0.10784602339053939\n"
          ]
        }
      ]
    },
    {
      "cell_type": "code",
      "source": [
        "variance.index(min(variance))"
      ],
      "metadata": {
        "colab": {
          "base_uri": "https://localhost:8080/"
        },
        "id": "yrg0eoftRQ7B",
        "outputId": "f6d56cc7-900f-41ec-fc36-813a8a0f29da"
      },
      "execution_count": null,
      "outputs": [
        {
          "output_type": "execute_result",
          "data": {
            "text/plain": [
              "0"
            ]
          },
          "metadata": {},
          "execution_count": 28
        }
      ]
    },
    {
      "cell_type": "code",
      "source": [],
      "metadata": {
        "id": "E-CUtt8kRTRu"
      },
      "execution_count": null,
      "outputs": []
    },
    {
      "cell_type": "code",
      "source": [
        "seen = []\n",
        "for i in range(6,10):\n",
        "  for j in range(6,10):\n",
        "    for k in range(6,10):\n",
        "      seen.append([i,j,k])"
      ],
      "metadata": {
        "id": "fBL2qYgkt08p"
      },
      "execution_count": null,
      "outputs": []
    },
    {
      "cell_type": "code",
      "source": [
        "seen"
      ],
      "metadata": {
        "id": "aRL-X2eat9l8"
      },
      "execution_count": null,
      "outputs": []
    }
  ],
  "metadata": {
    "kernelspec": {
      "display_name": "Python 3",
      "name": "python3"
    },
    "language_info": {
      "codemirror_mode": {
        "name": "ipython",
        "version": 3
      },
      "file_extension": ".py",
      "mimetype": "text/x-python",
      "name": "python",
      "nbconvert_exporter": "python",
      "pygments_lexer": "ipython3",
      "version": "3.11.5"
    },
    "colab": {
      "provenance": [],
      "machine_shape": "hm",
      "gpuType": "T4"
    },
    "accelerator": "GPU"
  },
  "nbformat": 4,
  "nbformat_minor": 0
}